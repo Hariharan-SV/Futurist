{
  "nbformat": 4,
  "nbformat_minor": 0,
  "metadata": {
    "colab": {
      "name": "Car_price_prediction.ipynb",
      "provenance": []
    },
    "kernelspec": {
      "name": "python3",
      "display_name": "Python 3"
    },
    "language_info": {
      "name": "python"
    }
  },
  "cells": [
    {
      "cell_type": "code",
      "metadata": {
        "id": "qPSGT7e0D8iR"
      },
      "source": [
        "import pandas as pd\n",
        "import numpy as np\n",
        "import matplotlib.pyplot as plt\n",
        "import seaborn as sns\n",
        "import os\n",
        "import warnings"
      ],
      "execution_count": null,
      "outputs": []
    },
    {
      "cell_type": "code",
      "metadata": {
        "colab": {
          "base_uri": "https://localhost:8080/"
        },
        "id": "hE_qmfdyFK_S",
        "outputId": "0b4740be-f299-4a1a-8bf3-56381ab7072a"
      },
      "source": [
        "from google.colab import drive\n",
        "drive.mount(\"/content/gdrive\")"
      ],
      "execution_count": null,
      "outputs": [
        {
          "output_type": "stream",
          "text": [
            "Mounted at /content/gdrive\n"
          ],
          "name": "stdout"
        }
      ]
    },
    {
      "cell_type": "code",
      "metadata": {
        "id": "EkGm4-R6E7_f"
      },
      "source": [
        "pd.set_option(\"display.max_rows\", None,\"display.max_columns\", None)\n",
        "warnings.simplefilter(action='ignore')\n",
        "plt.style.use('seaborn')"
      ],
      "execution_count": null,
      "outputs": []
    },
    {
      "cell_type": "code",
      "metadata": {
        "id": "IXH_jvVPE9TR"
      },
      "source": [
        "df_main = pd.read_csv('/content/gdrive/My Drive/datasets/car data.csv')"
      ],
      "execution_count": null,
      "outputs": []
    },
    {
      "cell_type": "code",
      "metadata": {
        "colab": {
          "base_uri": "https://localhost:8080/",
          "height": 195
        },
        "id": "pi5QpAWPGBH8",
        "outputId": "6ef77b97-3d6b-47a5-c227-e21e8b4a313a"
      },
      "source": [
        "df_main.head()"
      ],
      "execution_count": null,
      "outputs": [
        {
          "output_type": "execute_result",
          "data": {
            "text/html": [
              "<div>\n",
              "<style scoped>\n",
              "    .dataframe tbody tr th:only-of-type {\n",
              "        vertical-align: middle;\n",
              "    }\n",
              "\n",
              "    .dataframe tbody tr th {\n",
              "        vertical-align: top;\n",
              "    }\n",
              "\n",
              "    .dataframe thead th {\n",
              "        text-align: right;\n",
              "    }\n",
              "</style>\n",
              "<table border=\"1\" class=\"dataframe\">\n",
              "  <thead>\n",
              "    <tr style=\"text-align: right;\">\n",
              "      <th></th>\n",
              "      <th>Car_Name</th>\n",
              "      <th>Year</th>\n",
              "      <th>Selling_Price</th>\n",
              "      <th>Present_Price</th>\n",
              "      <th>Kms_Driven</th>\n",
              "      <th>Fuel_Type</th>\n",
              "      <th>Seller_Type</th>\n",
              "      <th>Transmission</th>\n",
              "      <th>Owner</th>\n",
              "    </tr>\n",
              "  </thead>\n",
              "  <tbody>\n",
              "    <tr>\n",
              "      <th>0</th>\n",
              "      <td>ritz</td>\n",
              "      <td>2014</td>\n",
              "      <td>3.35</td>\n",
              "      <td>5.59</td>\n",
              "      <td>27000</td>\n",
              "      <td>Petrol</td>\n",
              "      <td>Dealer</td>\n",
              "      <td>Manual</td>\n",
              "      <td>0</td>\n",
              "    </tr>\n",
              "    <tr>\n",
              "      <th>1</th>\n",
              "      <td>sx4</td>\n",
              "      <td>2013</td>\n",
              "      <td>4.75</td>\n",
              "      <td>9.54</td>\n",
              "      <td>43000</td>\n",
              "      <td>Diesel</td>\n",
              "      <td>Dealer</td>\n",
              "      <td>Manual</td>\n",
              "      <td>0</td>\n",
              "    </tr>\n",
              "    <tr>\n",
              "      <th>2</th>\n",
              "      <td>ciaz</td>\n",
              "      <td>2017</td>\n",
              "      <td>7.25</td>\n",
              "      <td>9.85</td>\n",
              "      <td>6900</td>\n",
              "      <td>Petrol</td>\n",
              "      <td>Dealer</td>\n",
              "      <td>Manual</td>\n",
              "      <td>0</td>\n",
              "    </tr>\n",
              "    <tr>\n",
              "      <th>3</th>\n",
              "      <td>wagon r</td>\n",
              "      <td>2011</td>\n",
              "      <td>2.85</td>\n",
              "      <td>4.15</td>\n",
              "      <td>5200</td>\n",
              "      <td>Petrol</td>\n",
              "      <td>Dealer</td>\n",
              "      <td>Manual</td>\n",
              "      <td>0</td>\n",
              "    </tr>\n",
              "    <tr>\n",
              "      <th>4</th>\n",
              "      <td>swift</td>\n",
              "      <td>2014</td>\n",
              "      <td>4.60</td>\n",
              "      <td>6.87</td>\n",
              "      <td>42450</td>\n",
              "      <td>Diesel</td>\n",
              "      <td>Dealer</td>\n",
              "      <td>Manual</td>\n",
              "      <td>0</td>\n",
              "    </tr>\n",
              "  </tbody>\n",
              "</table>\n",
              "</div>"
            ],
            "text/plain": [
              "  Car_Name  Year  Selling_Price  Present_Price  Kms_Driven Fuel_Type  \\\n",
              "0     ritz  2014           3.35           5.59       27000    Petrol   \n",
              "1      sx4  2013           4.75           9.54       43000    Diesel   \n",
              "2     ciaz  2017           7.25           9.85        6900    Petrol   \n",
              "3  wagon r  2011           2.85           4.15        5200    Petrol   \n",
              "4    swift  2014           4.60           6.87       42450    Diesel   \n",
              "\n",
              "  Seller_Type Transmission  Owner  \n",
              "0      Dealer       Manual      0  \n",
              "1      Dealer       Manual      0  \n",
              "2      Dealer       Manual      0  \n",
              "3      Dealer       Manual      0  \n",
              "4      Dealer       Manual      0  "
            ]
          },
          "metadata": {
            "tags": []
          },
          "execution_count": 8
        }
      ]
    },
    {
      "cell_type": "code",
      "metadata": {
        "colab": {
          "base_uri": "https://localhost:8080/"
        },
        "id": "auZnGgtoGEo1",
        "outputId": "7a99b7ed-d0c9-4bb8-eb75-d60658349f50"
      },
      "source": [
        "df_main.shape"
      ],
      "execution_count": null,
      "outputs": [
        {
          "output_type": "execute_result",
          "data": {
            "text/plain": [
              "(301, 9)"
            ]
          },
          "metadata": {
            "tags": []
          },
          "execution_count": 9
        }
      ]
    },
    {
      "cell_type": "code",
      "metadata": {
        "colab": {
          "base_uri": "https://localhost:8080/"
        },
        "id": "AlnrFbeUGOu5",
        "outputId": "1206ead1-2d63-4ea1-8e84-f9a1f919a2e9"
      },
      "source": [
        "df_main.info()"
      ],
      "execution_count": null,
      "outputs": [
        {
          "output_type": "stream",
          "text": [
            "<class 'pandas.core.frame.DataFrame'>\n",
            "RangeIndex: 301 entries, 0 to 300\n",
            "Data columns (total 9 columns):\n",
            " #   Column         Non-Null Count  Dtype  \n",
            "---  ------         --------------  -----  \n",
            " 0   Car_Name       301 non-null    object \n",
            " 1   Year           301 non-null    int64  \n",
            " 2   Selling_Price  301 non-null    float64\n",
            " 3   Present_Price  301 non-null    float64\n",
            " 4   Kms_Driven     301 non-null    int64  \n",
            " 5   Fuel_Type      301 non-null    object \n",
            " 6   Seller_Type    301 non-null    object \n",
            " 7   Transmission   301 non-null    object \n",
            " 8   Owner          301 non-null    int64  \n",
            "dtypes: float64(2), int64(3), object(4)\n",
            "memory usage: 21.3+ KB\n"
          ],
          "name": "stdout"
        }
      ]
    },
    {
      "cell_type": "code",
      "metadata": {
        "colab": {
          "base_uri": "https://localhost:8080/",
          "height": 284
        },
        "id": "NsN1OVpLGRYt",
        "outputId": "b82dc7ba-f058-49f6-b217-b57d5a408c00"
      },
      "source": [
        "df_main.describe()"
      ],
      "execution_count": null,
      "outputs": [
        {
          "output_type": "execute_result",
          "data": {
            "text/html": [
              "<div>\n",
              "<style scoped>\n",
              "    .dataframe tbody tr th:only-of-type {\n",
              "        vertical-align: middle;\n",
              "    }\n",
              "\n",
              "    .dataframe tbody tr th {\n",
              "        vertical-align: top;\n",
              "    }\n",
              "\n",
              "    .dataframe thead th {\n",
              "        text-align: right;\n",
              "    }\n",
              "</style>\n",
              "<table border=\"1\" class=\"dataframe\">\n",
              "  <thead>\n",
              "    <tr style=\"text-align: right;\">\n",
              "      <th></th>\n",
              "      <th>Year</th>\n",
              "      <th>Selling_Price</th>\n",
              "      <th>Present_Price</th>\n",
              "      <th>Kms_Driven</th>\n",
              "      <th>Owner</th>\n",
              "    </tr>\n",
              "  </thead>\n",
              "  <tbody>\n",
              "    <tr>\n",
              "      <th>count</th>\n",
              "      <td>301.000000</td>\n",
              "      <td>301.000000</td>\n",
              "      <td>301.000000</td>\n",
              "      <td>301.000000</td>\n",
              "      <td>301.000000</td>\n",
              "    </tr>\n",
              "    <tr>\n",
              "      <th>mean</th>\n",
              "      <td>2013.627907</td>\n",
              "      <td>4.661296</td>\n",
              "      <td>7.628472</td>\n",
              "      <td>36947.205980</td>\n",
              "      <td>0.043189</td>\n",
              "    </tr>\n",
              "    <tr>\n",
              "      <th>std</th>\n",
              "      <td>2.891554</td>\n",
              "      <td>5.082812</td>\n",
              "      <td>8.644115</td>\n",
              "      <td>38886.883882</td>\n",
              "      <td>0.247915</td>\n",
              "    </tr>\n",
              "    <tr>\n",
              "      <th>min</th>\n",
              "      <td>2003.000000</td>\n",
              "      <td>0.100000</td>\n",
              "      <td>0.320000</td>\n",
              "      <td>500.000000</td>\n",
              "      <td>0.000000</td>\n",
              "    </tr>\n",
              "    <tr>\n",
              "      <th>25%</th>\n",
              "      <td>2012.000000</td>\n",
              "      <td>0.900000</td>\n",
              "      <td>1.200000</td>\n",
              "      <td>15000.000000</td>\n",
              "      <td>0.000000</td>\n",
              "    </tr>\n",
              "    <tr>\n",
              "      <th>50%</th>\n",
              "      <td>2014.000000</td>\n",
              "      <td>3.600000</td>\n",
              "      <td>6.400000</td>\n",
              "      <td>32000.000000</td>\n",
              "      <td>0.000000</td>\n",
              "    </tr>\n",
              "    <tr>\n",
              "      <th>75%</th>\n",
              "      <td>2016.000000</td>\n",
              "      <td>6.000000</td>\n",
              "      <td>9.900000</td>\n",
              "      <td>48767.000000</td>\n",
              "      <td>0.000000</td>\n",
              "    </tr>\n",
              "    <tr>\n",
              "      <th>max</th>\n",
              "      <td>2018.000000</td>\n",
              "      <td>35.000000</td>\n",
              "      <td>92.600000</td>\n",
              "      <td>500000.000000</td>\n",
              "      <td>3.000000</td>\n",
              "    </tr>\n",
              "  </tbody>\n",
              "</table>\n",
              "</div>"
            ],
            "text/plain": [
              "              Year  Selling_Price  Present_Price     Kms_Driven       Owner\n",
              "count   301.000000     301.000000     301.000000     301.000000  301.000000\n",
              "mean   2013.627907       4.661296       7.628472   36947.205980    0.043189\n",
              "std       2.891554       5.082812       8.644115   38886.883882    0.247915\n",
              "min    2003.000000       0.100000       0.320000     500.000000    0.000000\n",
              "25%    2012.000000       0.900000       1.200000   15000.000000    0.000000\n",
              "50%    2014.000000       3.600000       6.400000   32000.000000    0.000000\n",
              "75%    2016.000000       6.000000       9.900000   48767.000000    0.000000\n",
              "max    2018.000000      35.000000      92.600000  500000.000000    3.000000"
            ]
          },
          "metadata": {
            "tags": []
          },
          "execution_count": 11
        }
      ]
    },
    {
      "cell_type": "code",
      "metadata": {
        "colab": {
          "base_uri": "https://localhost:8080/"
        },
        "id": "w9UCBpu6GaQb",
        "outputId": "c2ba55ea-35c8-4111-f6be-9a7b1b4e954c"
      },
      "source": [
        "df_main.isna().sum()"
      ],
      "execution_count": null,
      "outputs": [
        {
          "output_type": "execute_result",
          "data": {
            "text/plain": [
              "Car_Name         0\n",
              "Year             0\n",
              "Selling_Price    0\n",
              "Present_Price    0\n",
              "Kms_Driven       0\n",
              "Fuel_Type        0\n",
              "Seller_Type      0\n",
              "Transmission     0\n",
              "Owner            0\n",
              "dtype: int64"
            ]
          },
          "metadata": {
            "tags": []
          },
          "execution_count": 12
        }
      ]
    },
    {
      "cell_type": "code",
      "metadata": {
        "id": "pJx5JjltGc_9"
      },
      "source": [
        "df_main['age'] = 2020 - df_main['Year']\n",
        "df_main.drop('Year',axis=1,inplace = True)"
      ],
      "execution_count": null,
      "outputs": []
    },
    {
      "cell_type": "code",
      "metadata": {
        "id": "yiFKIh1GGvOu"
      },
      "source": [
        "df_main.rename(columns = {'Selling_Price':'Selling_Price(lacs)','Present_Price':'Present_Price(lacs)','Owner':'Past_Owners'},inplace = True)"
      ],
      "execution_count": null,
      "outputs": []
    },
    {
      "cell_type": "code",
      "metadata": {
        "colab": {
          "base_uri": "https://localhost:8080/"
        },
        "id": "gXqIvXOiG0l5",
        "outputId": "8e66083f-856f-4ee4-b77e-1329946317b9"
      },
      "source": [
        "df_main.columns"
      ],
      "execution_count": null,
      "outputs": [
        {
          "output_type": "execute_result",
          "data": {
            "text/plain": [
              "Index(['Car_Name', 'Selling_Price(lacs)', 'Present_Price(lacs)', 'Kms_Driven',\n",
              "       'Fuel_Type', 'Seller_Type', 'Transmission', 'Past_Owners', 'age'],\n",
              "      dtype='object')"
            ]
          },
          "metadata": {
            "tags": []
          },
          "execution_count": 15
        }
      ]
    },
    {
      "cell_type": "code",
      "metadata": {
        "colab": {
          "base_uri": "https://localhost:8080/",
          "height": 546
        },
        "id": "SgkLBugJG4md",
        "outputId": "c7029398-760f-420f-980d-d5b40994d38e"
      },
      "source": [
        "cat_cols = ['Fuel_Type','Seller_Type','Transmission','Past_Owners']\n",
        "i=0\n",
        "while i < 4:\n",
        "    fig = plt.figure(figsize=[10,4])\n",
        "    #ax1 = fig.add_subplot(121)\n",
        "    #ax2 = fig.add_subplot(122)\n",
        "    \n",
        "    #ax1.title.set_text(cat_cols[i])\n",
        "    plt.subplot(1,2,1)\n",
        "    sns.countplot(x=cat_cols[i], data=df_main)\n",
        "    i += 1\n",
        "    \n",
        "    #ax2.title.set_text(cat_cols[i])\n",
        "    plt.subplot(1,2,2)\n",
        "    sns.countplot(x=cat_cols[i], data=df_main)\n",
        "    i += 1\n",
        "    \n",
        "    plt.show()\n"
      ],
      "execution_count": null,
      "outputs": [
        {
          "output_type": "display_data",
          "data": {
            "image/png": "[encoded data removed]",
            "text/plain": [
              "<Figure size 720x288 with 2 Axes>"
            ]
          },
          "metadata": {
            "tags": []
          }
        },
        {
          "output_type": "display_data",
          "data": {
            "image/png": "[encoded data removed]",
            "text/plain": [
              "<Figure size 720x288 with 2 Axes>"
            ]
          },
          "metadata": {
            "tags": []
          }
        }
      ]
    },
    {
      "cell_type": "code",
      "metadata": {
        "colab": {
          "base_uri": "https://localhost:8080/",
          "height": 433
        },
        "id": "aNerQWTkHUF0",
        "outputId": "d02ea4b2-a30d-4c25-8a87-8c0e0d26a33b"
      },
      "source": [
        "num_cols = ['Selling_Price(lacs)','Present_Price(lacs)','Kms_Driven','age']\n",
        "i=0\n",
        "while i < 4:\n",
        "    fig = plt.figure(figsize=[13,3])\n",
        "    #ax1 = fig.add_subplot(121)\n",
        "    #ax2 = fig.add_subplot(122)\n",
        "    \n",
        "    #ax1.title.set_text(num_cols[i])\n",
        "    plt.subplot(1,2,1)\n",
        "    sns.boxplot(x=num_cols[i], data=df_main)\n",
        "    i += 1\n",
        "    \n",
        "    #ax2.title.set_text(num_cols[i])\n",
        "    plt.subplot(1,2,2)\n",
        "    sns.boxplot(x=num_cols[i], data=df_main)\n",
        "    i += 1\n",
        "    \n",
        "    plt.show()"
      ],
      "execution_count": null,
      "outputs": [
        {
          "output_type": "display_data",
          "data": {
            "image/png": "[encoded data removed]",
            "text/plain": [
              "<Figure size 936x216 with 2 Axes>"
            ]
          },
          "metadata": {
            "tags": []
          }
        },
        {
          "output_type": "display_data",
          "data": {
            "image/png": "[encoded data removed]",
            "text/plain": [
              "<Figure size 936x216 with 2 Axes>"
            ]
          },
          "metadata": {
            "tags": []
          }
        }
      ]
    },
    {
      "cell_type": "code",
      "metadata": {
        "colab": {
          "base_uri": "https://localhost:8080/",
          "height": 106
        },
        "id": "mrJxT8XLI1l2",
        "outputId": "a161bf99-7856-4850-bc38-d664505e83fa"
      },
      "source": [
        "df_main[df_main['Present_Price(lacs)'] > df_main['Present_Price(lacs)'].quantile(0.99)]"
      ],
      "execution_count": null,
      "outputs": [
        {
          "output_type": "execute_result",
          "data": {
            "text/html": [
              "<div>\n",
              "<style scoped>\n",
              "    .dataframe tbody tr th:only-of-type {\n",
              "        vertical-align: middle;\n",
              "    }\n",
              "\n",
              "    .dataframe tbody tr th {\n",
              "        vertical-align: top;\n",
              "    }\n",
              "\n",
              "    .dataframe thead th {\n",
              "        text-align: right;\n",
              "    }\n",
              "</style>\n",
              "<table border=\"1\" class=\"dataframe\">\n",
              "  <thead>\n",
              "    <tr style=\"text-align: right;\">\n",
              "      <th></th>\n",
              "      <th>Car_Name</th>\n",
              "      <th>Selling_Price(lacs)</th>\n",
              "      <th>Present_Price(lacs)</th>\n",
              "      <th>Kms_Driven</th>\n",
              "      <th>Fuel_Type</th>\n",
              "      <th>Seller_Type</th>\n",
              "      <th>Transmission</th>\n",
              "      <th>Past_Owners</th>\n",
              "      <th>age</th>\n",
              "    </tr>\n",
              "  </thead>\n",
              "  <tbody>\n",
              "    <tr>\n",
              "      <th>64</th>\n",
              "      <td>fortuner</td>\n",
              "      <td>33.0</td>\n",
              "      <td>36.23</td>\n",
              "      <td>6000</td>\n",
              "      <td>Diesel</td>\n",
              "      <td>Dealer</td>\n",
              "      <td>Automatic</td>\n",
              "      <td>0</td>\n",
              "      <td>3</td>\n",
              "    </tr>\n",
              "    <tr>\n",
              "      <th>86</th>\n",
              "      <td>land cruiser</td>\n",
              "      <td>35.0</td>\n",
              "      <td>92.60</td>\n",
              "      <td>78000</td>\n",
              "      <td>Diesel</td>\n",
              "      <td>Dealer</td>\n",
              "      <td>Manual</td>\n",
              "      <td>0</td>\n",
              "      <td>10</td>\n",
              "    </tr>\n",
              "  </tbody>\n",
              "</table>\n",
              "</div>"
            ],
            "text/plain": [
              "        Car_Name  Selling_Price(lacs)  Present_Price(lacs)  Kms_Driven  \\\n",
              "64      fortuner                 33.0                36.23        6000   \n",
              "86  land cruiser                 35.0                92.60       78000   \n",
              "\n",
              "   Fuel_Type Seller_Type Transmission  Past_Owners  age  \n",
              "64    Diesel      Dealer    Automatic            0    3  \n",
              "86    Diesel      Dealer       Manual            0   10  "
            ]
          },
          "metadata": {
            "tags": []
          },
          "execution_count": 18
        }
      ]
    },
    {
      "cell_type": "code",
      "metadata": {
        "colab": {
          "base_uri": "https://localhost:8080/",
          "height": 136
        },
        "id": "kOT4MoJGyD-E",
        "outputId": "83afe5c8-6e8b-4098-81a5-380cbdbab3b9"
      },
      "source": [
        "df_main[df_main['Selling_Price(lacs)'] > df_main['Selling_Price(lacs)'].quantile(0.99)]"
      ],
      "execution_count": null,
      "outputs": [
        {
          "output_type": "execute_result",
          "data": {
            "text/html": [
              "<div>\n",
              "<style scoped>\n",
              "    .dataframe tbody tr th:only-of-type {\n",
              "        vertical-align: middle;\n",
              "    }\n",
              "\n",
              "    .dataframe tbody tr th {\n",
              "        vertical-align: top;\n",
              "    }\n",
              "\n",
              "    .dataframe thead th {\n",
              "        text-align: right;\n",
              "    }\n",
              "</style>\n",
              "<table border=\"1\" class=\"dataframe\">\n",
              "  <thead>\n",
              "    <tr style=\"text-align: right;\">\n",
              "      <th></th>\n",
              "      <th>Car_Name</th>\n",
              "      <th>Selling_Price(lacs)</th>\n",
              "      <th>Present_Price(lacs)</th>\n",
              "      <th>Kms_Driven</th>\n",
              "      <th>Fuel_Type</th>\n",
              "      <th>Seller_Type</th>\n",
              "      <th>Transmission</th>\n",
              "      <th>Past_Owners</th>\n",
              "      <th>age</th>\n",
              "    </tr>\n",
              "  </thead>\n",
              "  <tbody>\n",
              "    <tr>\n",
              "      <th>63</th>\n",
              "      <td>fortuner</td>\n",
              "      <td>23.5</td>\n",
              "      <td>35.96</td>\n",
              "      <td>47000</td>\n",
              "      <td>Diesel</td>\n",
              "      <td>Dealer</td>\n",
              "      <td>Automatic</td>\n",
              "      <td>0</td>\n",
              "      <td>5</td>\n",
              "    </tr>\n",
              "    <tr>\n",
              "      <th>64</th>\n",
              "      <td>fortuner</td>\n",
              "      <td>33.0</td>\n",
              "      <td>36.23</td>\n",
              "      <td>6000</td>\n",
              "      <td>Diesel</td>\n",
              "      <td>Dealer</td>\n",
              "      <td>Automatic</td>\n",
              "      <td>0</td>\n",
              "      <td>3</td>\n",
              "    </tr>\n",
              "    <tr>\n",
              "      <th>86</th>\n",
              "      <td>land cruiser</td>\n",
              "      <td>35.0</td>\n",
              "      <td>92.60</td>\n",
              "      <td>78000</td>\n",
              "      <td>Diesel</td>\n",
              "      <td>Dealer</td>\n",
              "      <td>Manual</td>\n",
              "      <td>0</td>\n",
              "      <td>10</td>\n",
              "    </tr>\n",
              "  </tbody>\n",
              "</table>\n",
              "</div>"
            ],
            "text/plain": [
              "        Car_Name  Selling_Price(lacs)  Present_Price(lacs)  Kms_Driven  \\\n",
              "63      fortuner                 23.5                35.96       47000   \n",
              "64      fortuner                 33.0                36.23        6000   \n",
              "86  land cruiser                 35.0                92.60       78000   \n",
              "\n",
              "   Fuel_Type Seller_Type Transmission  Past_Owners  age  \n",
              "63    Diesel      Dealer    Automatic            0    5  \n",
              "64    Diesel      Dealer    Automatic            0    3  \n",
              "86    Diesel      Dealer       Manual            0   10  "
            ]
          },
          "metadata": {
            "tags": []
          },
          "execution_count": 19
        }
      ]
    },
    {
      "cell_type": "code",
      "metadata": {
        "colab": {
          "base_uri": "https://localhost:8080/",
          "height": 136
        },
        "id": "9PZ8R0m8yI5f",
        "outputId": "4e914791-889d-4370-b21d-22cd253d7bc8"
      },
      "source": [
        "df_main[df_main['Kms_Driven'] > df_main['Kms_Driven'].quantile(0.99)]"
      ],
      "execution_count": null,
      "outputs": [
        {
          "output_type": "execute_result",
          "data": {
            "text/html": [
              "<div>\n",
              "<style scoped>\n",
              "    .dataframe tbody tr th:only-of-type {\n",
              "        vertical-align: middle;\n",
              "    }\n",
              "\n",
              "    .dataframe tbody tr th {\n",
              "        vertical-align: top;\n",
              "    }\n",
              "\n",
              "    .dataframe thead th {\n",
              "        text-align: right;\n",
              "    }\n",
              "</style>\n",
              "<table border=\"1\" class=\"dataframe\">\n",
              "  <thead>\n",
              "    <tr style=\"text-align: right;\">\n",
              "      <th></th>\n",
              "      <th>Car_Name</th>\n",
              "      <th>Selling_Price(lacs)</th>\n",
              "      <th>Present_Price(lacs)</th>\n",
              "      <th>Kms_Driven</th>\n",
              "      <th>Fuel_Type</th>\n",
              "      <th>Seller_Type</th>\n",
              "      <th>Transmission</th>\n",
              "      <th>Past_Owners</th>\n",
              "      <th>age</th>\n",
              "    </tr>\n",
              "  </thead>\n",
              "  <tbody>\n",
              "    <tr>\n",
              "      <th>84</th>\n",
              "      <td>innova</td>\n",
              "      <td>3.49</td>\n",
              "      <td>13.46</td>\n",
              "      <td>197176</td>\n",
              "      <td>Diesel</td>\n",
              "      <td>Dealer</td>\n",
              "      <td>Manual</td>\n",
              "      <td>0</td>\n",
              "      <td>15</td>\n",
              "    </tr>\n",
              "    <tr>\n",
              "      <th>179</th>\n",
              "      <td>Honda Karizma</td>\n",
              "      <td>0.31</td>\n",
              "      <td>1.05</td>\n",
              "      <td>213000</td>\n",
              "      <td>Petrol</td>\n",
              "      <td>Individual</td>\n",
              "      <td>Manual</td>\n",
              "      <td>0</td>\n",
              "      <td>10</td>\n",
              "    </tr>\n",
              "    <tr>\n",
              "      <th>196</th>\n",
              "      <td>Activa 3g</td>\n",
              "      <td>0.17</td>\n",
              "      <td>0.52</td>\n",
              "      <td>500000</td>\n",
              "      <td>Petrol</td>\n",
              "      <td>Individual</td>\n",
              "      <td>Automatic</td>\n",
              "      <td>0</td>\n",
              "      <td>12</td>\n",
              "    </tr>\n",
              "  </tbody>\n",
              "</table>\n",
              "</div>"
            ],
            "text/plain": [
              "          Car_Name  Selling_Price(lacs)  Present_Price(lacs)  Kms_Driven  \\\n",
              "84          innova                 3.49                13.46      197176   \n",
              "179  Honda Karizma                 0.31                 1.05      213000   \n",
              "196      Activa 3g                 0.17                 0.52      500000   \n",
              "\n",
              "    Fuel_Type Seller_Type Transmission  Past_Owners  age  \n",
              "84     Diesel      Dealer       Manual            0   15  \n",
              "179    Petrol  Individual       Manual            0   10  \n",
              "196    Petrol  Individual    Automatic            0   12  "
            ]
          },
          "metadata": {
            "tags": []
          },
          "execution_count": 20
        }
      ]
    },
    {
      "cell_type": "code",
      "metadata": {
        "colab": {
          "base_uri": "https://localhost:8080/",
          "height": 429
        },
        "id": "FpDhro1GyQkm",
        "outputId": "54676325-87db-4b61-fb83-742bfd0a9c61"
      },
      "source": [
        "sns.heatmap(df_main.corr(), annot=True, cmap=\"RdBu\")\n",
        "plt.show()"
      ],
      "execution_count": null,
      "outputs": [
        {
          "output_type": "display_data",
          "data": {
            "image/png": "[encoded data removed]",
            "text/plain": [
              "<Figure size 576x396 with 2 Axes>"
            ]
          },
          "metadata": {
            "tags": []
          }
        }
      ]
    },
    {
      "cell_type": "code",
      "metadata": {
        "colab": {
          "base_uri": "https://localhost:8080/"
        },
        "id": "hMgGOQcbyWlx",
        "outputId": "7293ab7e-6cbf-4702-f255-5c49075af360"
      },
      "source": [
        "df_main.corr()['Selling_Price(lacs)']"
      ],
      "execution_count": null,
      "outputs": [
        {
          "output_type": "execute_result",
          "data": {
            "text/plain": [
              "Selling_Price(lacs)    1.000000\n",
              "Present_Price(lacs)    0.878983\n",
              "Kms_Driven             0.029187\n",
              "Past_Owners           -0.088344\n",
              "age                   -0.236141\n",
              "Name: Selling_Price(lacs), dtype: float64"
            ]
          },
          "metadata": {
            "tags": []
          },
          "execution_count": 22
        }
      ]
    },
    {
      "cell_type": "code",
      "metadata": {
        "colab": {
          "base_uri": "https://localhost:8080/",
          "height": 136
        },
        "id": "5iIUCUAvzBSk",
        "outputId": "3c025975-1a73-4c5e-9783-1066cdc10468"
      },
      "source": [
        "df_main.pivot_table(values='Selling_Price(lacs)', index = 'Seller_Type', columns= 'Fuel_Type')"
      ],
      "execution_count": null,
      "outputs": [
        {
          "output_type": "execute_result",
          "data": {
            "text/html": [
              "<div>\n",
              "<style scoped>\n",
              "    .dataframe tbody tr th:only-of-type {\n",
              "        vertical-align: middle;\n",
              "    }\n",
              "\n",
              "    .dataframe tbody tr th {\n",
              "        vertical-align: top;\n",
              "    }\n",
              "\n",
              "    .dataframe thead th {\n",
              "        text-align: right;\n",
              "    }\n",
              "</style>\n",
              "<table border=\"1\" class=\"dataframe\">\n",
              "  <thead>\n",
              "    <tr style=\"text-align: right;\">\n",
              "      <th>Fuel_Type</th>\n",
              "      <th>CNG</th>\n",
              "      <th>Diesel</th>\n",
              "      <th>Petrol</th>\n",
              "    </tr>\n",
              "    <tr>\n",
              "      <th>Seller_Type</th>\n",
              "      <th></th>\n",
              "      <th></th>\n",
              "      <th></th>\n",
              "    </tr>\n",
              "  </thead>\n",
              "  <tbody>\n",
              "    <tr>\n",
              "      <th>Dealer</th>\n",
              "      <td>3.1</td>\n",
              "      <td>10.181525</td>\n",
              "      <td>5.252388</td>\n",
              "    </tr>\n",
              "    <tr>\n",
              "      <th>Individual</th>\n",
              "      <td>NaN</td>\n",
              "      <td>16.000000</td>\n",
              "      <td>0.726857</td>\n",
              "    </tr>\n",
              "  </tbody>\n",
              "</table>\n",
              "</div>"
            ],
            "text/plain": [
              "Fuel_Type    CNG     Diesel    Petrol\n",
              "Seller_Type                          \n",
              "Dealer       3.1  10.181525  5.252388\n",
              "Individual   NaN  16.000000  0.726857"
            ]
          },
          "metadata": {
            "tags": []
          },
          "execution_count": 23
        }
      ]
    },
    {
      "cell_type": "code",
      "metadata": {
        "colab": {
          "base_uri": "https://localhost:8080/",
          "height": 136
        },
        "id": "-egmhkHgzFhU",
        "outputId": "f4de9ef8-2bcc-4661-83a0-e0f227ef880e"
      },
      "source": [
        "df_main.pivot_table(values='Selling_Price(lacs)', index = 'Seller_Type', columns= 'Transmission')"
      ],
      "execution_count": null,
      "outputs": [
        {
          "output_type": "execute_result",
          "data": {
            "text/html": [
              "<div>\n",
              "<style scoped>\n",
              "    .dataframe tbody tr th:only-of-type {\n",
              "        vertical-align: middle;\n",
              "    }\n",
              "\n",
              "    .dataframe tbody tr th {\n",
              "        vertical-align: top;\n",
              "    }\n",
              "\n",
              "    .dataframe thead th {\n",
              "        text-align: right;\n",
              "    }\n",
              "</style>\n",
              "<table border=\"1\" class=\"dataframe\">\n",
              "  <thead>\n",
              "    <tr style=\"text-align: right;\">\n",
              "      <th>Transmission</th>\n",
              "      <th>Automatic</th>\n",
              "      <th>Manual</th>\n",
              "    </tr>\n",
              "    <tr>\n",
              "      <th>Seller_Type</th>\n",
              "      <th></th>\n",
              "      <th></th>\n",
              "    </tr>\n",
              "  </thead>\n",
              "  <tbody>\n",
              "    <tr>\n",
              "      <th>Dealer</th>\n",
              "      <td>12.246552</td>\n",
              "      <td>5.756506</td>\n",
              "    </tr>\n",
              "    <tr>\n",
              "      <th>Individual</th>\n",
              "      <td>1.968182</td>\n",
              "      <td>0.743895</td>\n",
              "    </tr>\n",
              "  </tbody>\n",
              "</table>\n",
              "</div>"
            ],
            "text/plain": [
              "Transmission  Automatic    Manual\n",
              "Seller_Type                      \n",
              "Dealer        12.246552  5.756506\n",
              "Individual     1.968182  0.743895"
            ]
          },
          "metadata": {
            "tags": []
          },
          "execution_count": 24
        }
      ]
    },
    {
      "cell_type": "code",
      "metadata": {
        "id": "nt8aTgEnzHL2"
      },
      "source": [
        "df_main.drop(labels='Car_Name',axis= 1, inplace = True)"
      ],
      "execution_count": null,
      "outputs": []
    },
    {
      "cell_type": "code",
      "metadata": {
        "colab": {
          "base_uri": "https://localhost:8080/",
          "height": 195
        },
        "id": "LVVJ8SHgzL7I",
        "outputId": "677e847e-bbfb-43ce-ab76-262455173ac3"
      },
      "source": [
        "df_main.head()"
      ],
      "execution_count": null,
      "outputs": [
        {
          "output_type": "execute_result",
          "data": {
            "text/html": [
              "<div>\n",
              "<style scoped>\n",
              "    .dataframe tbody tr th:only-of-type {\n",
              "        vertical-align: middle;\n",
              "    }\n",
              "\n",
              "    .dataframe tbody tr th {\n",
              "        vertical-align: top;\n",
              "    }\n",
              "\n",
              "    .dataframe thead th {\n",
              "        text-align: right;\n",
              "    }\n",
              "</style>\n",
              "<table border=\"1\" class=\"dataframe\">\n",
              "  <thead>\n",
              "    <tr style=\"text-align: right;\">\n",
              "      <th></th>\n",
              "      <th>Selling_Price(lacs)</th>\n",
              "      <th>Present_Price(lacs)</th>\n",
              "      <th>Kms_Driven</th>\n",
              "      <th>Fuel_Type</th>\n",
              "      <th>Seller_Type</th>\n",
              "      <th>Transmission</th>\n",
              "      <th>Past_Owners</th>\n",
              "      <th>age</th>\n",
              "    </tr>\n",
              "  </thead>\n",
              "  <tbody>\n",
              "    <tr>\n",
              "      <th>0</th>\n",
              "      <td>3.35</td>\n",
              "      <td>5.59</td>\n",
              "      <td>27000</td>\n",
              "      <td>Petrol</td>\n",
              "      <td>Dealer</td>\n",
              "      <td>Manual</td>\n",
              "      <td>0</td>\n",
              "      <td>6</td>\n",
              "    </tr>\n",
              "    <tr>\n",
              "      <th>1</th>\n",
              "      <td>4.75</td>\n",
              "      <td>9.54</td>\n",
              "      <td>43000</td>\n",
              "      <td>Diesel</td>\n",
              "      <td>Dealer</td>\n",
              "      <td>Manual</td>\n",
              "      <td>0</td>\n",
              "      <td>7</td>\n",
              "    </tr>\n",
              "    <tr>\n",
              "      <th>2</th>\n",
              "      <td>7.25</td>\n",
              "      <td>9.85</td>\n",
              "      <td>6900</td>\n",
              "      <td>Petrol</td>\n",
              "      <td>Dealer</td>\n",
              "      <td>Manual</td>\n",
              "      <td>0</td>\n",
              "      <td>3</td>\n",
              "    </tr>\n",
              "    <tr>\n",
              "      <th>3</th>\n",
              "      <td>2.85</td>\n",
              "      <td>4.15</td>\n",
              "      <td>5200</td>\n",
              "      <td>Petrol</td>\n",
              "      <td>Dealer</td>\n",
              "      <td>Manual</td>\n",
              "      <td>0</td>\n",
              "      <td>9</td>\n",
              "    </tr>\n",
              "    <tr>\n",
              "      <th>4</th>\n",
              "      <td>4.60</td>\n",
              "      <td>6.87</td>\n",
              "      <td>42450</td>\n",
              "      <td>Diesel</td>\n",
              "      <td>Dealer</td>\n",
              "      <td>Manual</td>\n",
              "      <td>0</td>\n",
              "      <td>6</td>\n",
              "    </tr>\n",
              "  </tbody>\n",
              "</table>\n",
              "</div>"
            ],
            "text/plain": [
              "   Selling_Price(lacs)  Present_Price(lacs)  Kms_Driven Fuel_Type Seller_Type  \\\n",
              "0                 3.35                 5.59       27000    Petrol      Dealer   \n",
              "1                 4.75                 9.54       43000    Diesel      Dealer   \n",
              "2                 7.25                 9.85        6900    Petrol      Dealer   \n",
              "3                 2.85                 4.15        5200    Petrol      Dealer   \n",
              "4                 4.60                 6.87       42450    Diesel      Dealer   \n",
              "\n",
              "  Transmission  Past_Owners  age  \n",
              "0       Manual            0    6  \n",
              "1       Manual            0    7  \n",
              "2       Manual            0    3  \n",
              "3       Manual            0    9  \n",
              "4       Manual            0    6  "
            ]
          },
          "metadata": {
            "tags": []
          },
          "execution_count": 26
        }
      ]
    },
    {
      "cell_type": "code",
      "metadata": {
        "id": "BNMub75czPFy"
      },
      "source": [
        "df_main = pd.get_dummies(data = df_main,drop_first=True) "
      ],
      "execution_count": null,
      "outputs": []
    },
    {
      "cell_type": "code",
      "metadata": {
        "colab": {
          "base_uri": "https://localhost:8080/",
          "height": 195
        },
        "id": "WAW_hSDnzP7i",
        "outputId": "48e55e61-2313-49d8-8ea5-b3cd1e9ce0da"
      },
      "source": [
        "df_main.head()"
      ],
      "execution_count": null,
      "outputs": [
        {
          "output_type": "execute_result",
          "data": {
            "text/html": [
              "<div>\n",
              "<style scoped>\n",
              "    .dataframe tbody tr th:only-of-type {\n",
              "        vertical-align: middle;\n",
              "    }\n",
              "\n",
              "    .dataframe tbody tr th {\n",
              "        vertical-align: top;\n",
              "    }\n",
              "\n",
              "    .dataframe thead th {\n",
              "        text-align: right;\n",
              "    }\n",
              "</style>\n",
              "<table border=\"1\" class=\"dataframe\">\n",
              "  <thead>\n",
              "    <tr style=\"text-align: right;\">\n",
              "      <th></th>\n",
              "      <th>Selling_Price(lacs)</th>\n",
              "      <th>Present_Price(lacs)</th>\n",
              "      <th>Kms_Driven</th>\n",
              "      <th>Past_Owners</th>\n",
              "      <th>age</th>\n",
              "      <th>Fuel_Type_Diesel</th>\n",
              "      <th>Fuel_Type_Petrol</th>\n",
              "      <th>Seller_Type_Individual</th>\n",
              "      <th>Transmission_Manual</th>\n",
              "    </tr>\n",
              "  </thead>\n",
              "  <tbody>\n",
              "    <tr>\n",
              "      <th>0</th>\n",
              "      <td>3.35</td>\n",
              "      <td>5.59</td>\n",
              "      <td>27000</td>\n",
              "      <td>0</td>\n",
              "      <td>6</td>\n",
              "      <td>0</td>\n",
              "      <td>1</td>\n",
              "      <td>0</td>\n",
              "      <td>1</td>\n",
              "    </tr>\n",
              "    <tr>\n",
              "      <th>1</th>\n",
              "      <td>4.75</td>\n",
              "      <td>9.54</td>\n",
              "      <td>43000</td>\n",
              "      <td>0</td>\n",
              "      <td>7</td>\n",
              "      <td>1</td>\n",
              "      <td>0</td>\n",
              "      <td>0</td>\n",
              "      <td>1</td>\n",
              "    </tr>\n",
              "    <tr>\n",
              "      <th>2</th>\n",
              "      <td>7.25</td>\n",
              "      <td>9.85</td>\n",
              "      <td>6900</td>\n",
              "      <td>0</td>\n",
              "      <td>3</td>\n",
              "      <td>0</td>\n",
              "      <td>1</td>\n",
              "      <td>0</td>\n",
              "      <td>1</td>\n",
              "    </tr>\n",
              "    <tr>\n",
              "      <th>3</th>\n",
              "      <td>2.85</td>\n",
              "      <td>4.15</td>\n",
              "      <td>5200</td>\n",
              "      <td>0</td>\n",
              "      <td>9</td>\n",
              "      <td>0</td>\n",
              "      <td>1</td>\n",
              "      <td>0</td>\n",
              "      <td>1</td>\n",
              "    </tr>\n",
              "    <tr>\n",
              "      <th>4</th>\n",
              "      <td>4.60</td>\n",
              "      <td>6.87</td>\n",
              "      <td>42450</td>\n",
              "      <td>0</td>\n",
              "      <td>6</td>\n",
              "      <td>1</td>\n",
              "      <td>0</td>\n",
              "      <td>0</td>\n",
              "      <td>1</td>\n",
              "    </tr>\n",
              "  </tbody>\n",
              "</table>\n",
              "</div>"
            ],
            "text/plain": [
              "   Selling_Price(lacs)  Present_Price(lacs)  Kms_Driven  Past_Owners  age  \\\n",
              "0                 3.35                 5.59       27000            0    6   \n",
              "1                 4.75                 9.54       43000            0    7   \n",
              "2                 7.25                 9.85        6900            0    3   \n",
              "3                 2.85                 4.15        5200            0    9   \n",
              "4                 4.60                 6.87       42450            0    6   \n",
              "\n",
              "   Fuel_Type_Diesel  Fuel_Type_Petrol  Seller_Type_Individual  \\\n",
              "0                 0                 1                       0   \n",
              "1                 1                 0                       0   \n",
              "2                 0                 1                       0   \n",
              "3                 0                 1                       0   \n",
              "4                 1                 0                       0   \n",
              "\n",
              "   Transmission_Manual  \n",
              "0                    1  \n",
              "1                    1  \n",
              "2                    1  \n",
              "3                    1  \n",
              "4                    1  "
            ]
          },
          "metadata": {
            "tags": []
          },
          "execution_count": 28
        }
      ]
    },
    {
      "cell_type": "markdown",
      "metadata": {
        "id": "Z049A_SSzX8N"
      },
      "source": [
        "# **Training the model**"
      ]
    },
    {
      "cell_type": "code",
      "metadata": {
        "id": "3_RQx_OPzTJm"
      },
      "source": [
        "# Separating target variable and its features\n",
        "y = df_main['Selling_Price(lacs)']\n",
        "X = df_main.drop('Selling_Price(lacs)',axis=1)"
      ],
      "execution_count": null,
      "outputs": []
    },
    {
      "cell_type": "code",
      "metadata": {
        "id": "BOaw-HtPzdsC"
      },
      "source": [
        "from sklearn.model_selection import train_test_split"
      ],
      "execution_count": null,
      "outputs": []
    },
    {
      "cell_type": "code",
      "metadata": {
        "colab": {
          "base_uri": "https://localhost:8080/"
        },
        "id": "LcT_K3bmzfzM",
        "outputId": "1d0af8cd-4738-4708-8d73-0c5bedd22afb"
      },
      "source": [
        "X_train, X_test, y_train, y_test = train_test_split(X, y, test_size=0.2, random_state=1)\n",
        "print(\"x train: \",X_train.shape)\n",
        "print(\"x test: \",X_test.shape)\n",
        "print(\"y train: \",y_train.shape)\n",
        "print(\"y test: \",y_test.shape)"
      ],
      "execution_count": null,
      "outputs": [
        {
          "output_type": "stream",
          "text": [
            "x train:  (240, 8)\n",
            "x test:  (61, 8)\n",
            "y train:  (240,)\n",
            "y test:  (61,)\n"
          ],
          "name": "stdout"
        }
      ]
    },
    {
      "cell_type": "code",
      "metadata": {
        "id": "Ykvy4rAEzjwD"
      },
      "source": [
        "from sklearn.metrics import r2_score\n",
        "from sklearn.model_selection import cross_val_score"
      ],
      "execution_count": null,
      "outputs": []
    },
    {
      "cell_type": "code",
      "metadata": {
        "id": "Qk4XRTvYz1Th"
      },
      "source": [
        "CV = []\n",
        "R2_train = []\n",
        "R2_test = []\n",
        "\n",
        "def car_pred_model(model,model_name):\n",
        "    # Training model\n",
        "    model.fit(X_train,y_train)\n",
        "            \n",
        "    # R2 score of train set\n",
        "    y_pred_train = model.predict(X_train)\n",
        "    R2_train_model = r2_score(y_train,y_pred_train)\n",
        "    R2_train.append(round(R2_train_model,2))\n",
        "    \n",
        "    # R2 score of test set\n",
        "    y_pred_test = model.predict(X_test)\n",
        "    R2_test_model = r2_score(y_test,y_pred_test)\n",
        "    R2_test.append(round(R2_test_model,2))\n",
        "    \n",
        "    # R2 mean of train set using Cross validation\n",
        "    cross_val = cross_val_score(model ,X_train ,y_train ,cv=5)\n",
        "    cv_mean = cross_val.mean()\n",
        "    CV.append(round(cv_mean,2))\n",
        "    \n",
        "    # Printing results\n",
        "    print(\"Train R2-score :\",round(R2_train_model,2))\n",
        "    print(\"Test R2-score :\",round(R2_test_model,2))\n",
        "    print(\"Train CV scores :\",cross_val)\n",
        "    print(\"Train CV mean :\",round(cv_mean,2))\n",
        "    \n",
        "    # Plotting Graphs \n",
        "    # Residual Plot of train data\n",
        "    fig, ax = plt.subplots(1,2,figsize = (10,4))\n",
        "    ax[0].set_title('Residual Plot of Train samples')\n",
        "    sns.distplot((y_train-y_pred_train),hist = False,ax = ax[0])\n",
        "    ax[0].set_xlabel('y_train - y_pred_train')\n",
        "    \n",
        "    # Y_test vs Y_train scatter plot\n",
        "    ax[1].set_title('y_test vs y_pred_test')\n",
        "    ax[1].scatter(x = y_test, y = y_pred_test)\n",
        "    ax[1].set_xlabel('y_test')\n",
        "    ax[1].set_ylabel('y_pred_test')\n",
        "    \n",
        "    plt.show()"
      ],
      "execution_count": null,
      "outputs": []
    },
    {
      "cell_type": "code",
      "metadata": {
        "colab": {
          "base_uri": "https://localhost:8080/",
          "height": 362
        },
        "id": "B3UMoImLz68M",
        "outputId": "150ad179-e02e-4a3f-cc71-e6f059544742"
      },
      "source": [
        "from sklearn.linear_model import LinearRegression\n",
        "\n",
        "lr = LinearRegression()\n",
        "car_pred_model(lr,\"Linear_regressor.pkl\")"
      ],
      "execution_count": null,
      "outputs": [
        {
          "output_type": "stream",
          "text": [
            "Train R2-score : 0.88\n",
            "Test R2-score : 0.86\n",
            "Train CV scores : [0.89912189 0.89838688 0.82980069 0.81769076 0.76113925]\n",
            "Train CV mean : 0.84\n"
          ],
          "name": "stdout"
        },
        {
          "output_type": "display_data",
          "data": {
            "image/png": "[encoded data removed]",
            "text/plain": [
              "<Figure size 720x288 with 2 Axes>"
            ]
          },
          "metadata": {
            "tags": []
          }
        }
      ]
    },
    {
      "cell_type": "code",
      "metadata": {
        "colab": {
          "base_uri": "https://localhost:8080/",
          "height": 362
        },
        "id": "ACGHzTRP0AaR",
        "outputId": "7fcf5b8b-78aa-490c-a5f8-051d6647982f"
      },
      "source": [
        "from sklearn.linear_model import Ridge\n",
        "from sklearn.model_selection import RandomizedSearchCV\n",
        "\n",
        "# Creating Ridge model object\n",
        "rg = Ridge()\n",
        "# range of alpha \n",
        "alpha = np.logspace(-3,3,num=14)\n",
        "\n",
        "# Creating RandomizedSearchCV to find the best estimator of hyperparameter\n",
        "rg_rs = RandomizedSearchCV(estimator = rg, param_distributions = dict(alpha=alpha))\n",
        "\n",
        "car_pred_model(rg_rs,\"ridge.pkl\")"
      ],
      "execution_count": null,
      "outputs": [
        {
          "output_type": "stream",
          "text": [
            "Train R2-score : 0.88\n",
            "Test R2-score : 0.86\n",
            "Train CV scores : [0.89912126 0.8983878  0.82980715 0.81769155 0.71854676]\n",
            "Train CV mean : 0.83\n"
          ],
          "name": "stdout"
        },
        {
          "output_type": "display_data",
          "data": {
            "image/png": "[encoded data removed]",
            "text/plain": [
              "<Figure size 720x288 with 2 Axes>"
            ]
          },
          "metadata": {
            "tags": []
          }
        }
      ]
    },
    {
      "cell_type": "code",
      "metadata": {
        "id": "dQp05e9i0IVb"
      },
      "source": [
        "from sklearn.linear_model import Lasso\n",
        "from sklearn.model_selection import RandomizedSearchCV\n",
        "\n",
        "ls = Lasso()\n",
        "alpha = np.logspace(-3,3,num=14) # range for alpha\n",
        "\n",
        "ls_rs = RandomizedSearchCV(estimator = ls, param_distributions = dict(alpha=alpha))"
      ],
      "execution_count": null,
      "outputs": []
    },
    {
      "cell_type": "code",
      "metadata": {
        "colab": {
          "base_uri": "https://localhost:8080/",
          "height": 362
        },
        "id": "ORjTm3tH0L7s",
        "outputId": "6f1ba8d5-7c95-4c0f-eb21-4b45e3e48712"
      },
      "source": [
        "car_pred_model(ls_rs,\"lasso.pkl\")"
      ],
      "execution_count": null,
      "outputs": [
        {
          "output_type": "stream",
          "text": [
            "Train R2-score : 0.88\n",
            "Test R2-score : 0.87\n",
            "Train CV scores : [0.89913828 0.89975361 0.8301628  0.82084546 0.70210321]\n",
            "Train CV mean : 0.83\n"
          ],
          "name": "stdout"
        },
        {
          "output_type": "display_data",
          "data": {
            "image/png": "[encoded data removed]",
            "text/plain": [
              "<Figure size 720x288 with 2 Axes>"
            ]
          },
          "metadata": {
            "tags": []
          }
        }
      ]
    },
    {
      "cell_type": "code",
      "metadata": {
        "id": "7krmIl2u0UBB"
      },
      "source": [
        "from sklearn.ensemble import RandomForestRegressor\n",
        "from sklearn.model_selection import RandomizedSearchCV\n",
        "\n",
        "rf = RandomForestRegressor()\n",
        "\n",
        "# Number of trees in Random forest\n",
        "n_estimators=list(range(500,1000,100))\n",
        "# Maximum number of levels in a tree\n",
        "max_depth=list(range(4,9,4))\n",
        "# Minimum number of samples required to split an internal node\n",
        "min_samples_split=list(range(4,9,2))\n",
        "# Minimum number of samples required to be at a leaf node.\n",
        "min_samples_leaf=[1,2,5,7]\n",
        "# Number of fearures to be considered at each split\n",
        "max_features=['auto','sqrt']\n",
        "\n",
        "# Hyperparameters dict\n",
        "param_grid = {\"n_estimators\":n_estimators,\n",
        "              \"max_depth\":max_depth,\n",
        "              \"min_samples_split\":min_samples_split,\n",
        "              \"min_samples_leaf\":min_samples_leaf,\n",
        "              \"max_features\":max_features}\n",
        "\n",
        "rf_rs = RandomizedSearchCV(estimator = rf, param_distributions = param_grid)"
      ],
      "execution_count": null,
      "outputs": []
    },
    {
      "cell_type": "code",
      "metadata": {
        "colab": {
          "base_uri": "https://localhost:8080/"
        },
        "id": "KMpDodZJ18BC",
        "outputId": "35a1768f-3658-41ef-93b6-9a061832943e"
      },
      "source": [
        "car_pred_model(rf_rs,'random_forest.pkl')"
      ],
      "execution_count": null,
      "outputs": [
        {
          "output_type": "stream",
          "text": [
            "Train R2-score : 0.94\n",
            "Test R2-score : 0.82\n",
            "Train CV scores : [0.92413023 0.97290727 0.79446809 0.92786373 0.74048643]\n",
            "Train CV mean : 0.87\n"
          ],
          "name": "stdout"
        },
        {
          "output_type": "display_data",
          "data": {
            "image/png": "[encoded data removed]",
            "text/plain": [
              "<Figure size 720x288 with 2 Axes>"
            ]
          },
          "metadata": {
            "tags": []
          }
        }
      ]
    },
    {
      "cell_type": "code",
      "metadata": {
        "colab": {
          "base_uri": "https://localhost:8080/"
        },
        "id": "v43g1Ldp1_3_",
        "outputId": "16cfc231-6dc2-4416-aff0-377b2a07eeac"
      },
      "source": [
        "print(rf_rs.best_estimator_)"
      ],
      "execution_count": null,
      "outputs": [
        {
          "output_type": "stream",
          "text": [
            "RandomForestRegressor(bootstrap=True, ccp_alpha=0.0, criterion='mse',\n",
            "                      max_depth=4, max_features='auto', max_leaf_nodes=None,\n",
            "                      max_samples=None, min_impurity_decrease=0.0,\n",
            "                      min_impurity_split=None, min_samples_leaf=1,\n",
            "                      min_samples_split=8, min_weight_fraction_leaf=0.0,\n",
            "                      n_estimators=900, n_jobs=None, oob_score=False,\n",
            "                      random_state=None, verbose=0, warm_start=False)\n"
          ],
          "name": "stdout"
        }
      ]
    },
    {
      "cell_type": "code",
      "metadata": {
        "id": "-REsmg7q2H-p"
      },
      "source": [
        "from sklearn.ensemble import GradientBoostingRegressor\n",
        "from sklearn.model_selection import RandomizedSearchCV\n",
        "\n",
        "gb = GradientBoostingRegressor()\n",
        "\n",
        "# Rate at which correcting is being made\n",
        "learning_rate = [0.001, 0.01, 0.1, 0.2]\n",
        "# Number of trees in Gradient boosting\n",
        "n_estimators=list(range(500,1000,100))\n",
        "# Maximum number of levels in a tree\n",
        "max_depth=list(range(4,9,4))\n",
        "# Minimum number of samples required to split an internal node\n",
        "min_samples_split=list(range(4,9,2))\n",
        "# Minimum number of samples required to be at a leaf node.\n",
        "min_samples_leaf=[1,2,5,7]\n",
        "# Number of fearures to be considered at each split\n",
        "max_features=['auto','sqrt']\n",
        "\n",
        "# Hyperparameters dict\n",
        "param_grid = {\"learning_rate\":learning_rate,\n",
        "              \"n_estimators\":n_estimators,\n",
        "              \"max_depth\":max_depth,\n",
        "              \"min_samples_split\":min_samples_split,\n",
        "              \"min_samples_leaf\":min_samples_leaf,\n",
        "              \"max_features\":max_features}\n",
        "\n",
        "gb_rs = RandomizedSearchCV(estimator = gb, param_distributions = param_grid)"
      ],
      "execution_count": null,
      "outputs": []
    },
    {
      "cell_type": "code",
      "metadata": {
        "colab": {
          "base_uri": "https://localhost:8080/"
        },
        "id": "1RRu6oL22NeQ",
        "outputId": "74a5fbe8-f99b-4008-9de7-f0c5cc86228f"
      },
      "source": [
        "car_pred_model(gb_rs,\"gradient_boosting.pkl\")"
      ],
      "execution_count": null,
      "outputs": [
        {
          "output_type": "stream",
          "text": [
            "Train R2-score : 1.0\n",
            "Test R2-score : 0.74\n",
            "Train CV scores : [0.93440143 0.94714324 0.88980648 0.94277083 0.67346762]\n",
            "Train CV mean : 0.88\n"
          ],
          "name": "stdout"
        },
        {
          "output_type": "display_data",
          "data": {
            "image/png": "[encoded data removed]",
            "text/plain": [
              "<Figure size 720x288 with 2 Axes>"
            ]
          },
          "metadata": {
            "tags": []
          }
        }
      ]
    },
    {
      "cell_type": "code",
      "metadata": {
        "colab": {
          "base_uri": "https://localhost:8080/"
        },
        "id": "yTi6Q5mW2P87",
        "outputId": "74561262-2a5b-484c-933b-65bb91bbde40"
      },
      "source": [
        "Technique = [\"LinearRegression\",\"Ridge\",\"Lasso\",\"RandomForestRegressor\",\"GradientBoostingRegressor\"]\n",
        "results=pd.DataFrame({'Model': Technique,'R Squared(Train)': R2_train,'R Squared(Test)': R2_test,'CV score mean(Train)': CV})\n",
        "display(results)"
      ],
      "execution_count": null,
      "outputs": [
        {
          "output_type": "display_data",
          "data": {
            "text/html": [
              "<div>\n",
              "<style scoped>\n",
              "    .dataframe tbody tr th:only-of-type {\n",
              "        vertical-align: middle;\n",
              "    }\n",
              "\n",
              "    .dataframe tbody tr th {\n",
              "        vertical-align: top;\n",
              "    }\n",
              "\n",
              "    .dataframe thead th {\n",
              "        text-align: right;\n",
              "    }\n",
              "</style>\n",
              "<table border=\"1\" class=\"dataframe\">\n",
              "  <thead>\n",
              "    <tr style=\"text-align: right;\">\n",
              "      <th></th>\n",
              "      <th>Model</th>\n",
              "      <th>R Squared(Train)</th>\n",
              "      <th>R Squared(Test)</th>\n",
              "      <th>CV score mean(Train)</th>\n",
              "    </tr>\n",
              "  </thead>\n",
              "  <tbody>\n",
              "    <tr>\n",
              "      <th>0</th>\n",
              "      <td>LinearRegression</td>\n",
              "      <td>0.88</td>\n",
              "      <td>0.86</td>\n",
              "      <td>0.84</td>\n",
              "    </tr>\n",
              "    <tr>\n",
              "      <th>1</th>\n",
              "      <td>Ridge</td>\n",
              "      <td>0.88</td>\n",
              "      <td>0.86</td>\n",
              "      <td>0.83</td>\n",
              "    </tr>\n",
              "    <tr>\n",
              "      <th>2</th>\n",
              "      <td>Lasso</td>\n",
              "      <td>0.88</td>\n",
              "      <td>0.87</td>\n",
              "      <td>0.83</td>\n",
              "    </tr>\n",
              "    <tr>\n",
              "      <th>3</th>\n",
              "      <td>RandomForestRegressor</td>\n",
              "      <td>0.94</td>\n",
              "      <td>0.82</td>\n",
              "      <td>0.87</td>\n",
              "    </tr>\n",
              "    <tr>\n",
              "      <th>4</th>\n",
              "      <td>GradientBoostingRegressor</td>\n",
              "      <td>1.00</td>\n",
              "      <td>0.74</td>\n",
              "      <td>0.88</td>\n",
              "    </tr>\n",
              "  </tbody>\n",
              "</table>\n",
              "</div>"
            ],
            "text/plain": [
              "                       Model  R Squared(Train)  R Squared(Test)  \\\n",
              "0           LinearRegression              0.88             0.86   \n",
              "1                      Ridge              0.88             0.86   \n",
              "2                      Lasso              0.88             0.87   \n",
              "3      RandomForestRegressor              0.94             0.82   \n",
              "4  GradientBoostingRegressor              1.00             0.74   \n",
              "\n",
              "   CV score mean(Train)  \n",
              "0                  0.84  \n",
              "1                  0.83  \n",
              "2                  0.83  \n",
              "3                  0.87  \n",
              "4                  0.88  "
            ]
          },
          "metadata": {
            "tags": []
          }
        }
      ]
    }
  ]
}