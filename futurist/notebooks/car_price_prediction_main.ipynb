{
  "nbformat": 4,
  "nbformat_minor": 0,
  "metadata": {
    "colab": {
      "name": "UsedCarPricePredictor.ipynb",
      "provenance": []
    },
    "kernelspec": {
      "name": "python3",
      "display_name": "Python 3"
    },
    "language_info": {
      "name": "python"
    }
  },
  "cells": [
    {
      "cell_type": "markdown",
      "metadata": {
        "id": "ev7VvCPnLDYf"
      },
      "source": [
        "## Import Libraries"
      ]
    },
    {
      "cell_type": "code",
      "metadata": {
        "id": "unx6YNPkK67T"
      },
      "source": [
        "import numpy as np\n",
        "import pandas as pd\n",
        "from sklearn.preprocessing import LabelEncoder\n",
        "from sklearn.ensemble import RandomForestRegressor\n",
        "from sklearn.model_selection import train_test_split\n",
        "from sklearn.preprocessing import StandardScaler\n",
        "import warnings\n",
        "warnings.filterwarnings('ignore')\n",
        "import matplotlib.pyplot as plt\n",
        "import seaborn as sns\n",
        "from sklearn.metrics import mean_absolute_error,mean_squared_error"
      ],
      "execution_count": null,
      "outputs": []
    },
    {
      "cell_type": "markdown",
      "metadata": {
        "id": "eFTwiiPsLKc3"
      },
      "source": [
        "## Import csv file"
      ]
    },
    {
      "cell_type": "code",
      "metadata": {
        "colab": {
          "base_uri": "https://localhost:8080/",
          "height": 296
        },
        "id": "z57k6-cmLHGm",
        "outputId": "130e6aea-01a8-4731-ef77-7a46c6728ccc"
      },
      "source": [
        "from google.colab import drive\n",
        "drive.mount(\"/content/gdrive\")\n",
        "df =  pd.read_csv('/content/gdrive/My Drive/datasets/cleaned_cars.csv')\n",
        "df.loc[:, ~df.columns.str.match('Unnamed')]\n",
        "df.head()\n"
      ],
      "execution_count": null,
      "outputs": [
        {
          "output_type": "stream",
          "text": [
            "Drive already mounted at /content/gdrive; to attempt to forcibly remount, call drive.mount(\"/content/gdrive\", force_remount=True).\n"
          ],
          "name": "stdout"
        },
        {
          "output_type": "execute_result",
          "data": {
            "text/html": [
              "<div>\n",
              "<style scoped>\n",
              "    .dataframe tbody tr th:only-of-type {\n",
              "        vertical-align: middle;\n",
              "    }\n",
              "\n",
              "    .dataframe tbody tr th {\n",
              "        vertical-align: top;\n",
              "    }\n",
              "\n",
              "    .dataframe thead th {\n",
              "        text-align: right;\n",
              "    }\n",
              "</style>\n",
              "<table border=\"1\" class=\"dataframe\">\n",
              "  <thead>\n",
              "    <tr style=\"text-align: right;\">\n",
              "      <th></th>\n",
              "      <th>name</th>\n",
              "      <th>year</th>\n",
              "      <th>selling_price</th>\n",
              "      <th>km_driven</th>\n",
              "      <th>fuel</th>\n",
              "      <th>seller_type</th>\n",
              "      <th>transmission</th>\n",
              "      <th>owner</th>\n",
              "      <th>mileage</th>\n",
              "      <th>engine</th>\n",
              "      <th>max_power</th>\n",
              "      <th>torque</th>\n",
              "      <th>seats</th>\n",
              "      <th>present_price</th>\n",
              "    </tr>\n",
              "  </thead>\n",
              "  <tbody>\n",
              "    <tr>\n",
              "      <th>0</th>\n",
              "      <td>Maruti Swift Dzire VDI</td>\n",
              "      <td>2014</td>\n",
              "      <td>450000</td>\n",
              "      <td>145500</td>\n",
              "      <td>Diesel</td>\n",
              "      <td>Individual</td>\n",
              "      <td>Manual</td>\n",
              "      <td>First Owner</td>\n",
              "      <td>23.4 kmpl</td>\n",
              "      <td>1248 CC</td>\n",
              "      <td>74 bhp</td>\n",
              "      <td>190Nm@ 2000rpm</td>\n",
              "      <td>5.0</td>\n",
              "      <td>841000.0</td>\n",
              "    </tr>\n",
              "    <tr>\n",
              "      <th>1</th>\n",
              "      <td>Skoda Rapid 1.5 TDI Ambition</td>\n",
              "      <td>2014</td>\n",
              "      <td>370000</td>\n",
              "      <td>120000</td>\n",
              "      <td>Diesel</td>\n",
              "      <td>Individual</td>\n",
              "      <td>Manual</td>\n",
              "      <td>Second Owner</td>\n",
              "      <td>21.14 kmpl</td>\n",
              "      <td>1498 CC</td>\n",
              "      <td>103.52 bhp</td>\n",
              "      <td>250Nm@ 1500-2500rpm</td>\n",
              "      <td>5.0</td>\n",
              "      <td>1329000.0</td>\n",
              "    </tr>\n",
              "    <tr>\n",
              "      <th>2</th>\n",
              "      <td>Honda City 2017-2020 EXi</td>\n",
              "      <td>2006</td>\n",
              "      <td>158000</td>\n",
              "      <td>140000</td>\n",
              "      <td>Petrol</td>\n",
              "      <td>Individual</td>\n",
              "      <td>Manual</td>\n",
              "      <td>Third Owner</td>\n",
              "      <td>17.7 kmpl</td>\n",
              "      <td>1497 CC</td>\n",
              "      <td>78 bhp</td>\n",
              "      <td>12.7@ 2,700(kgm@ rpm)</td>\n",
              "      <td>5.0</td>\n",
              "      <td>1494967.0</td>\n",
              "    </tr>\n",
              "    <tr>\n",
              "      <th>3</th>\n",
              "      <td>Hyundai i20 Sportz Diesel</td>\n",
              "      <td>2010</td>\n",
              "      <td>225000</td>\n",
              "      <td>127000</td>\n",
              "      <td>Diesel</td>\n",
              "      <td>Individual</td>\n",
              "      <td>Manual</td>\n",
              "      <td>First Owner</td>\n",
              "      <td>23.0 kmpl</td>\n",
              "      <td>1396 CC</td>\n",
              "      <td>90 bhp</td>\n",
              "      <td>22.4 kgm at 1750-2750rpm</td>\n",
              "      <td>5.0</td>\n",
              "      <td>900000.0</td>\n",
              "    </tr>\n",
              "    <tr>\n",
              "      <th>4</th>\n",
              "      <td>Maruti Swift VXI BSIII</td>\n",
              "      <td>2007</td>\n",
              "      <td>130000</td>\n",
              "      <td>120000</td>\n",
              "      <td>Petrol</td>\n",
              "      <td>Individual</td>\n",
              "      <td>Manual</td>\n",
              "      <td>First Owner</td>\n",
              "      <td>16.1 kmpl</td>\n",
              "      <td>1298 CC</td>\n",
              "      <td>88.2 bhp</td>\n",
              "      <td>11.5@ 4,500(kgm@ rpm)</td>\n",
              "      <td>5.0</td>\n",
              "      <td>841000.0</td>\n",
              "    </tr>\n",
              "  </tbody>\n",
              "</table>\n",
              "</div>"
            ],
            "text/plain": [
              "                           name  year  ...  seats  present_price\n",
              "0        Maruti Swift Dzire VDI  2014  ...    5.0       841000.0\n",
              "1  Skoda Rapid 1.5 TDI Ambition  2014  ...    5.0      1329000.0\n",
              "2      Honda City 2017-2020 EXi  2006  ...    5.0      1494967.0\n",
              "3     Hyundai i20 Sportz Diesel  2010  ...    5.0       900000.0\n",
              "4        Maruti Swift VXI BSIII  2007  ...    5.0       841000.0\n",
              "\n",
              "[5 rows x 14 columns]"
            ]
          },
          "metadata": {
            "tags": []
          },
          "execution_count": 70
        }
      ]
    },
    {
      "cell_type": "markdown",
      "metadata": {
        "id": "q-DPQD5MLW-K"
      },
      "source": [
        "## Shape and nature of the dataset\n",
        "\n",
        "---\n",
        "\n"
      ]
    },
    {
      "cell_type": "code",
      "metadata": {
        "colab": {
          "base_uri": "https://localhost:8080/"
        },
        "id": "ZXZskcXMLbVK",
        "outputId": "52dd2083-7b4f-4026-8e58-e262a4415a07"
      },
      "source": [
        "print(df.shape)\n",
        "print(df.dtypes)"
      ],
      "execution_count": null,
      "outputs": [
        {
          "output_type": "stream",
          "text": [
            "(8128, 14)\n",
            "name              object\n",
            "year               int64\n",
            "selling_price      int64\n",
            "km_driven          int64\n",
            "fuel              object\n",
            "seller_type       object\n",
            "transmission      object\n",
            "owner             object\n",
            "mileage           object\n",
            "engine            object\n",
            "max_power         object\n",
            "torque            object\n",
            "seats            float64\n",
            "present_price    float64\n",
            "dtype: object\n"
          ],
          "name": "stdout"
        }
      ]
    },
    {
      "cell_type": "code",
      "metadata": {
        "colab": {
          "base_uri": "https://localhost:8080/",
          "height": 284
        },
        "id": "qtjijmYzx7iN",
        "outputId": "6c2080d1-2e31-4043-aca6-d6f22401603e"
      },
      "source": [
        "df.describe()"
      ],
      "execution_count": null,
      "outputs": [
        {
          "output_type": "execute_result",
          "data": {
            "text/html": [
              "<div>\n",
              "<style scoped>\n",
              "    .dataframe tbody tr th:only-of-type {\n",
              "        vertical-align: middle;\n",
              "    }\n",
              "\n",
              "    .dataframe tbody tr th {\n",
              "        vertical-align: top;\n",
              "    }\n",
              "\n",
              "    .dataframe thead th {\n",
              "        text-align: right;\n",
              "    }\n",
              "</style>\n",
              "<table border=\"1\" class=\"dataframe\">\n",
              "  <thead>\n",
              "    <tr style=\"text-align: right;\">\n",
              "      <th></th>\n",
              "      <th>year</th>\n",
              "      <th>selling_price</th>\n",
              "      <th>km_driven</th>\n",
              "      <th>seats</th>\n",
              "      <th>present_price</th>\n",
              "    </tr>\n",
              "  </thead>\n",
              "  <tbody>\n",
              "    <tr>\n",
              "      <th>count</th>\n",
              "      <td>8128.000000</td>\n",
              "      <td>8.128000e+03</td>\n",
              "      <td>8.128000e+03</td>\n",
              "      <td>7907.000000</td>\n",
              "      <td>8.113000e+03</td>\n",
              "    </tr>\n",
              "    <tr>\n",
              "      <th>mean</th>\n",
              "      <td>2013.804011</td>\n",
              "      <td>6.382718e+05</td>\n",
              "      <td>6.981951e+04</td>\n",
              "      <td>5.416719</td>\n",
              "      <td>1.215984e+06</td>\n",
              "    </tr>\n",
              "    <tr>\n",
              "      <th>std</th>\n",
              "      <td>4.044249</td>\n",
              "      <td>8.062534e+05</td>\n",
              "      <td>5.655055e+04</td>\n",
              "      <td>0.959588</td>\n",
              "      <td>1.423106e+06</td>\n",
              "    </tr>\n",
              "    <tr>\n",
              "      <th>min</th>\n",
              "      <td>1983.000000</td>\n",
              "      <td>2.999900e+04</td>\n",
              "      <td>1.000000e+00</td>\n",
              "      <td>2.000000</td>\n",
              "      <td>0.000000e+00</td>\n",
              "    </tr>\n",
              "    <tr>\n",
              "      <th>25%</th>\n",
              "      <td>2011.000000</td>\n",
              "      <td>2.549990e+05</td>\n",
              "      <td>3.500000e+04</td>\n",
              "      <td>5.000000</td>\n",
              "      <td>6.154000e+05</td>\n",
              "    </tr>\n",
              "    <tr>\n",
              "      <th>50%</th>\n",
              "      <td>2015.000000</td>\n",
              "      <td>4.500000e+05</td>\n",
              "      <td>6.000000e+04</td>\n",
              "      <td>5.000000</td>\n",
              "      <td>8.444650e+05</td>\n",
              "    </tr>\n",
              "    <tr>\n",
              "      <th>75%</th>\n",
              "      <td>2017.000000</td>\n",
              "      <td>6.750000e+05</td>\n",
              "      <td>9.800000e+04</td>\n",
              "      <td>5.000000</td>\n",
              "      <td>1.329000e+06</td>\n",
              "    </tr>\n",
              "    <tr>\n",
              "      <th>max</th>\n",
              "      <td>2020.000000</td>\n",
              "      <td>1.000000e+07</td>\n",
              "      <td>2.360457e+06</td>\n",
              "      <td>14.000000</td>\n",
              "      <td>2.785448e+07</td>\n",
              "    </tr>\n",
              "  </tbody>\n",
              "</table>\n",
              "</div>"
            ],
            "text/plain": [
              "              year  selling_price     km_driven        seats  present_price\n",
              "count  8128.000000   8.128000e+03  8.128000e+03  7907.000000   8.113000e+03\n",
              "mean   2013.804011   6.382718e+05  6.981951e+04     5.416719   1.215984e+06\n",
              "std       4.044249   8.062534e+05  5.655055e+04     0.959588   1.423106e+06\n",
              "min    1983.000000   2.999900e+04  1.000000e+00     2.000000   0.000000e+00\n",
              "25%    2011.000000   2.549990e+05  3.500000e+04     5.000000   6.154000e+05\n",
              "50%    2015.000000   4.500000e+05  6.000000e+04     5.000000   8.444650e+05\n",
              "75%    2017.000000   6.750000e+05  9.800000e+04     5.000000   1.329000e+06\n",
              "max    2020.000000   1.000000e+07  2.360457e+06    14.000000   2.785448e+07"
            ]
          },
          "metadata": {
            "tags": []
          },
          "execution_count": 72
        }
      ]
    },
    {
      "cell_type": "markdown",
      "metadata": {
        "id": "nbvzu-yANDJp"
      },
      "source": [
        "## Analysis and Pre-processing\n",
        "\n"
      ]
    },
    {
      "cell_type": "code",
      "metadata": {
        "colab": {
          "base_uri": "https://localhost:8080/"
        },
        "id": "hFTjYiRgMDJF",
        "outputId": "59598774-bc21-498a-d2c8-b1d9bc6041f8"
      },
      "source": [
        "final_df = df[['name', 'year', 'owner' , 'selling_price', 'present_price', 'km_driven', 'fuel', 'seller_type', 'transmission']]\n",
        "print(final_df['owner'].value_counts())\n",
        "\n",
        "final_df = final_df.astype({\"selling_price\": \"float64\"})\n",
        "\n",
        "for index,row in final_df.iterrows():\n",
        "  final_df.at[index,'selling_price'] /= 100000\n",
        "  final_df.at[index,'present_price'] /= 100000\n",
        "  final_df.at[index,'present_price'] = np.round(final_df.at[index,'present_price'],2)\n",
        "\n",
        "final_df.drop(final_df[final_df['owner']=='Test Drive Car'].index,axis=0,inplace=True)\n",
        "final_df['No_of_previous_owner'] = final_df['owner'].map({'First Owner':1,'Second Owner':2,'Third Owner':3,\"Fourth & Above\":4})\n",
        "\n",
        "print(final_df.head(1))\n",
        "final_df['Current Year'] = 2020\n",
        "final_df['age'] = final_df['Current Year'] - final_df['year']\n",
        "final_df.drop(['year','Current Year'],axis=1,inplace=True)\n",
        "del final_df['owner']\n",
        "print(final_df.head(1))\n",
        "print(final_df.shape)"
      ],
      "execution_count": null,
      "outputs": [
        {
          "output_type": "stream",
          "text": [
            "First Owner             5289\n",
            "Second Owner            2105\n",
            "Third Owner              555\n",
            "Fourth & Above Owner     174\n",
            "Test Drive Car             5\n",
            "Name: owner, dtype: int64\n",
            "                     name  year  ... transmission  No_of_previous_owner\n",
            "0  Maruti Swift Dzire VDI  2014  ...       Manual                   1.0\n",
            "\n",
            "[1 rows x 10 columns]\n",
            "                     name  selling_price  ...  No_of_previous_owner  age\n",
            "0  Maruti Swift Dzire VDI            4.5  ...                   1.0    6\n",
            "\n",
            "[1 rows x 9 columns]\n",
            "(8123, 9)\n"
          ],
          "name": "stdout"
        }
      ]
    },
    {
      "cell_type": "code",
      "metadata": {
        "colab": {
          "base_uri": "https://localhost:8080/",
          "height": 435
        },
        "id": "7-KUG0l1OIwB",
        "outputId": "c1abeb90-3254-47c0-a822-b29fcb386bed"
      },
      "source": [
        "num_cols = ['selling_price','present_price','km_driven','age']\n",
        "i=0\n",
        "while i < 4:\n",
        "    fig = plt.figure(figsize=[13,3])\n",
        "    #ax1 = fig.add_subplot(121)\n",
        "    #ax2 = fig.add_subplot(122)\n",
        "    \n",
        "    #ax1.title.set_text(num_cols[i])\n",
        "    plt.subplot(1,2,1)\n",
        "    sns.boxplot(x=num_cols[i], data=final_df)\n",
        "    i += 1\n",
        "    \n",
        "    #ax2.title.set_text(num_cols[i])\n",
        "    plt.subplot(1,2,2)\n",
        "    sns.boxplot(x=num_cols[i], data=final_df)\n",
        "    i += 1\n",
        "    \n",
        "    plt.show()"
      ],
      "execution_count": null,
      "outputs": [
        {
          "output_type": "display_data",
          "data": {
            "image/png": "[encoded data removed]",
            "text/plain": [
              "<Figure size 936x216 with 2 Axes>"
            ]
          },
          "metadata": {
            "tags": [],
            "needs_background": "light"
          }
        },
        {
          "output_type": "display_data",
          "data": {
            "image/png": "[encoded data removed]",
            "text/plain": [
              "<Figure size 936x216 with 2 Axes>"
            ]
          },
          "metadata": {
            "tags": [],
            "needs_background": "light"
          }
        }
      ]
    },
    {
      "cell_type": "code",
      "metadata": {
        "id": "5wUg937RbcUD"
      },
      "source": [
        "final_df = final_df[final_df['present_price'] < final_df['present_price'].quantile(0.99)]"
      ],
      "execution_count": null,
      "outputs": []
    },
    {
      "cell_type": "code",
      "metadata": {
        "id": "9tIvmDcRbll0"
      },
      "source": [
        "final_df = final_df[final_df['selling_price'] < final_df['selling_price'].quantile(0.99)]"
      ],
      "execution_count": null,
      "outputs": []
    },
    {
      "cell_type": "code",
      "metadata": {
        "id": "efztVIk8bra0"
      },
      "source": [
        "final_df = final_df[final_df['km_driven'] < final_df['km_driven'].quantile(0.99)]"
      ],
      "execution_count": null,
      "outputs": []
    },
    {
      "cell_type": "code",
      "metadata": {
        "id": "jj4HxUckkG3F"
      },
      "source": [
        "final_df = final_df[final_df['age'] < final_df['age'].quantile(0.99)]"
      ],
      "execution_count": null,
      "outputs": []
    },
    {
      "cell_type": "code",
      "metadata": {
        "colab": {
          "base_uri": "https://localhost:8080/",
          "height": 435
        },
        "id": "3BwkMeHXiKw1",
        "outputId": "529ff078-4470-4711-c180-4a310347779d"
      },
      "source": [
        "num_cols = ['selling_price','present_price','km_driven','age']\n",
        "i=0\n",
        "while i < 4:\n",
        "    fig = plt.figure(figsize=[13,3])\n",
        "    #ax1 = fig.add_subplot(121)\n",
        "    #ax2 = fig.add_subplot(122)\n",
        "    \n",
        "    #ax1.title.set_text(num_cols[i])\n",
        "    plt.subplot(1,2,1)\n",
        "    sns.boxplot(x=num_cols[i], data=final_df)\n",
        "    i += 1\n",
        "    \n",
        "    #ax2.title.set_text(num_cols[i])\n",
        "    plt.subplot(1,2,2)\n",
        "    sns.boxplot(x=num_cols[i], data=final_df)\n",
        "    i += 1\n",
        "    \n",
        "    plt.show()"
      ],
      "execution_count": null,
      "outputs": [
        {
          "output_type": "display_data",
          "data": {
            "image/png": "[encoded data removed]",
            "text/plain": [
              "<Figure size 936x216 with 2 Axes>"
            ]
          },
          "metadata": {
            "tags": [],
            "needs_background": "light"
          }
        },
        {
          "output_type": "display_data",
          "data": {
            "image/png": "[encoded data removed]",
            "text/plain": [
              "<Figure size 936x216 with 2 Axes>"
            ]
          },
          "metadata": {
            "tags": [],
            "needs_background": "light"
          }
        }
      ]
    },
    {
      "cell_type": "code",
      "metadata": {
        "colab": {
          "base_uri": "https://localhost:8080/"
        },
        "id": "tFWvooWrUoad",
        "outputId": "a2171c9d-629e-4a31-ed44-d3909f196cda"
      },
      "source": [
        "print(final_df.shape)\n",
        "print(final_df.dtypes)"
      ],
      "execution_count": null,
      "outputs": [
        {
          "output_type": "stream",
          "text": [
            "(7151, 9)\n",
            "name                     object\n",
            "selling_price           float64\n",
            "present_price           float64\n",
            "km_driven                 int64\n",
            "fuel                     object\n",
            "seller_type              object\n",
            "transmission             object\n",
            "No_of_previous_owner    float64\n",
            "age                       int64\n",
            "dtype: object\n"
          ],
          "name": "stdout"
        }
      ]
    },
    {
      "cell_type": "markdown",
      "metadata": {
        "id": "XkpC3lTaMMDP"
      },
      "source": [
        "## Brief report on missing values"
      ]
    },
    {
      "cell_type": "code",
      "metadata": {
        "colab": {
          "base_uri": "https://localhost:8080/"
        },
        "id": "4_gyb5L3MP0G",
        "outputId": "3a62cf5f-4e1f-4164-fa24-98745d0dafde"
      },
      "source": [
        "print(round(100*(final_df.isnull().sum()/len(final_df)),2).sort_values(ascending = False)) # column\n",
        "print(round(100*(final_df.isnull().sum(axis=1)/len(final_df)),2).sort_values(ascending = False)) # row"
      ],
      "execution_count": null,
      "outputs": [
        {
          "output_type": "stream",
          "text": [
            "No_of_previous_owner    2.0\n",
            "age                     0.0\n",
            "transmission            0.0\n",
            "seller_type             0.0\n",
            "fuel                    0.0\n",
            "km_driven               0.0\n",
            "present_price           0.0\n",
            "selling_price           0.0\n",
            "name                    0.0\n",
            "dtype: float64\n",
            "5082    0.01\n",
            "852     0.01\n",
            "4254    0.01\n",
            "275     0.01\n",
            "6825    0.01\n",
            "        ... \n",
            "5428    0.00\n",
            "5429    0.00\n",
            "5431    0.00\n",
            "5432    0.00\n",
            "0       0.00\n",
            "Length: 7151, dtype: float64\n"
          ],
          "name": "stdout"
        }
      ]
    },
    {
      "cell_type": "markdown",
      "metadata": {
        "id": "brRL-rM2Miif"
      },
      "source": [
        "## Drop duplicates"
      ]
    },
    {
      "cell_type": "code",
      "metadata": {
        "id": "4Dev76Y_nK0V"
      },
      "source": [
        "del final_df['name']"
      ],
      "execution_count": null,
      "outputs": []
    },
    {
      "cell_type": "code",
      "metadata": {
        "colab": {
          "base_uri": "https://localhost:8080/"
        },
        "id": "GChq93flMiC2",
        "outputId": "7f278c70-37cb-4877-9e62-1effc1a8a8fb"
      },
      "source": [
        "final_df.drop_duplicates(subset=None, inplace=True)\n",
        "print(final_df.shape)"
      ],
      "execution_count": null,
      "outputs": [
        {
          "output_type": "stream",
          "text": [
            "(6245, 8)\n"
          ],
          "name": "stdout"
        }
      ]
    },
    {
      "cell_type": "code",
      "metadata": {
        "id": "5ndOq3fO9cM_"
      },
      "source": [
        "for val in ['seller_type:Trustmark Dealer','fuel:LPG']:\n",
        "  query = val.split(\":\")\n",
        "  final_df = final_df[final_df[query[0]] != query[1]]"
      ],
      "execution_count": null,
      "outputs": []
    },
    {
      "cell_type": "markdown",
      "metadata": {
        "id": "cBnUhcmrO4db"
      },
      "source": [
        "## Multivariate analysis"
      ]
    },
    {
      "cell_type": "code",
      "metadata": {
        "colab": {
          "base_uri": "https://localhost:8080/",
          "height": 371
        },
        "id": "Byu6Rh8Qmao_",
        "outputId": "52fb67c7-aae7-4d9c-e30d-6532911bb29a"
      },
      "source": [
        "import seaborn as sns\n",
        "final_df.dropna(inplace=True)\n",
        "sns.heatmap(final_df.corr(method ='kendall'), annot=True, cmap=\"RdBu\")\n",
        "plt.show()"
      ],
      "execution_count": null,
      "outputs": [
        {
          "output_type": "display_data",
          "data": {
            "image/png": "[encoded data removed]",
            "text/plain": [
              "<Figure size 432x288 with 2 Axes>"
            ]
          },
          "metadata": {
            "tags": [],
            "needs_background": "light"
          }
        }
      ]
    },
    {
      "cell_type": "code",
      "metadata": {
        "colab": {
          "base_uri": "https://localhost:8080/",
          "height": 136
        },
        "id": "6SGbWbVyPI6p",
        "outputId": "0150ce11-849c-4a7f-ac3c-81b061666d4a"
      },
      "source": [
        "final_df.pivot_table(values='selling_price', index = 'seller_type', columns= 'fuel')"
      ],
      "execution_count": null,
      "outputs": [
        {
          "output_type": "execute_result",
          "data": {
            "text/html": [
              "<div>\n",
              "<style scoped>\n",
              "    .dataframe tbody tr th:only-of-type {\n",
              "        vertical-align: middle;\n",
              "    }\n",
              "\n",
              "    .dataframe tbody tr th {\n",
              "        vertical-align: top;\n",
              "    }\n",
              "\n",
              "    .dataframe thead th {\n",
              "        text-align: right;\n",
              "    }\n",
              "</style>\n",
              "<table border=\"1\" class=\"dataframe\">\n",
              "  <thead>\n",
              "    <tr style=\"text-align: right;\">\n",
              "      <th>fuel</th>\n",
              "      <th>CNG</th>\n",
              "      <th>Diesel</th>\n",
              "      <th>Petrol</th>\n",
              "    </tr>\n",
              "    <tr>\n",
              "      <th>seller_type</th>\n",
              "      <th></th>\n",
              "      <th></th>\n",
              "      <th></th>\n",
              "    </tr>\n",
              "  </thead>\n",
              "  <tbody>\n",
              "    <tr>\n",
              "      <th>Dealer</th>\n",
              "      <td>NaN</td>\n",
              "      <td>6.281694</td>\n",
              "      <td>4.856938</td>\n",
              "    </tr>\n",
              "    <tr>\n",
              "      <th>Individual</th>\n",
              "      <td>3.105576</td>\n",
              "      <td>5.154667</td>\n",
              "      <td>3.463433</td>\n",
              "    </tr>\n",
              "  </tbody>\n",
              "</table>\n",
              "</div>"
            ],
            "text/plain": [
              "fuel              CNG    Diesel    Petrol\n",
              "seller_type                              \n",
              "Dealer            NaN  6.281694  4.856938\n",
              "Individual   3.105576  5.154667  3.463433"
            ]
          },
          "metadata": {
            "tags": []
          },
          "execution_count": 95
        }
      ]
    },
    {
      "cell_type": "code",
      "metadata": {
        "colab": {
          "base_uri": "https://localhost:8080/",
          "height": 136
        },
        "id": "Alsnv9KdPZLL",
        "outputId": "eeddd4ee-04c0-473d-87c8-fbb0c54b56b7"
      },
      "source": [
        "final_df.pivot_table(values='selling_price', index = 'seller_type', columns= 'transmission')"
      ],
      "execution_count": null,
      "outputs": [
        {
          "output_type": "execute_result",
          "data": {
            "text/html": [
              "<div>\n",
              "<style scoped>\n",
              "    .dataframe tbody tr th:only-of-type {\n",
              "        vertical-align: middle;\n",
              "    }\n",
              "\n",
              "    .dataframe tbody tr th {\n",
              "        vertical-align: top;\n",
              "    }\n",
              "\n",
              "    .dataframe thead th {\n",
              "        text-align: right;\n",
              "    }\n",
              "</style>\n",
              "<table border=\"1\" class=\"dataframe\">\n",
              "  <thead>\n",
              "    <tr style=\"text-align: right;\">\n",
              "      <th>transmission</th>\n",
              "      <th>Automatic</th>\n",
              "      <th>Manual</th>\n",
              "    </tr>\n",
              "    <tr>\n",
              "      <th>seller_type</th>\n",
              "      <th></th>\n",
              "      <th></th>\n",
              "    </tr>\n",
              "  </thead>\n",
              "  <tbody>\n",
              "    <tr>\n",
              "      <th>Dealer</th>\n",
              "      <td>6.977343</td>\n",
              "      <td>5.454831</td>\n",
              "    </tr>\n",
              "    <tr>\n",
              "      <th>Individual</th>\n",
              "      <td>6.251245</td>\n",
              "      <td>4.251033</td>\n",
              "    </tr>\n",
              "  </tbody>\n",
              "</table>\n",
              "</div>"
            ],
            "text/plain": [
              "transmission  Automatic    Manual\n",
              "seller_type                      \n",
              "Dealer         6.977343  5.454831\n",
              "Individual     6.251245  4.251033"
            ]
          },
          "metadata": {
            "tags": []
          },
          "execution_count": 96
        }
      ]
    },
    {
      "cell_type": "code",
      "metadata": {
        "id": "e_U3lmGmQZCe"
      },
      "source": [
        "final_df = pd.get_dummies(final_df,drop_first=True)"
      ],
      "execution_count": null,
      "outputs": []
    },
    {
      "cell_type": "code",
      "metadata": {
        "id": "28va_4hR39Pn"
      },
      "source": [
        "final_df.dropna(inplace=True)"
      ],
      "execution_count": null,
      "outputs": []
    },
    {
      "cell_type": "code",
      "metadata": {
        "colab": {
          "base_uri": "https://localhost:8080/",
          "height": 195
        },
        "id": "SaY6x9l48X9K",
        "outputId": "f8a85e41-6146-4eb8-d0ad-5a916090250d"
      },
      "source": [
        "final_df.head()"
      ],
      "execution_count": null,
      "outputs": [
        {
          "output_type": "execute_result",
          "data": {
            "text/html": [
              "<div>\n",
              "<style scoped>\n",
              "    .dataframe tbody tr th:only-of-type {\n",
              "        vertical-align: middle;\n",
              "    }\n",
              "\n",
              "    .dataframe tbody tr th {\n",
              "        vertical-align: top;\n",
              "    }\n",
              "\n",
              "    .dataframe thead th {\n",
              "        text-align: right;\n",
              "    }\n",
              "</style>\n",
              "<table border=\"1\" class=\"dataframe\">\n",
              "  <thead>\n",
              "    <tr style=\"text-align: right;\">\n",
              "      <th></th>\n",
              "      <th>selling_price</th>\n",
              "      <th>present_price</th>\n",
              "      <th>km_driven</th>\n",
              "      <th>No_of_previous_owner</th>\n",
              "      <th>age</th>\n",
              "      <th>fuel_Diesel</th>\n",
              "      <th>fuel_Petrol</th>\n",
              "      <th>seller_type_Individual</th>\n",
              "      <th>transmission_Manual</th>\n",
              "    </tr>\n",
              "  </thead>\n",
              "  <tbody>\n",
              "    <tr>\n",
              "      <th>0</th>\n",
              "      <td>4.50</td>\n",
              "      <td>8.41</td>\n",
              "      <td>145500</td>\n",
              "      <td>1.0</td>\n",
              "      <td>6</td>\n",
              "      <td>1</td>\n",
              "      <td>0</td>\n",
              "      <td>1</td>\n",
              "      <td>1</td>\n",
              "    </tr>\n",
              "    <tr>\n",
              "      <th>1</th>\n",
              "      <td>3.70</td>\n",
              "      <td>13.29</td>\n",
              "      <td>120000</td>\n",
              "      <td>2.0</td>\n",
              "      <td>6</td>\n",
              "      <td>1</td>\n",
              "      <td>0</td>\n",
              "      <td>1</td>\n",
              "      <td>1</td>\n",
              "    </tr>\n",
              "    <tr>\n",
              "      <th>2</th>\n",
              "      <td>1.58</td>\n",
              "      <td>14.95</td>\n",
              "      <td>140000</td>\n",
              "      <td>3.0</td>\n",
              "      <td>14</td>\n",
              "      <td>0</td>\n",
              "      <td>1</td>\n",
              "      <td>1</td>\n",
              "      <td>1</td>\n",
              "    </tr>\n",
              "    <tr>\n",
              "      <th>3</th>\n",
              "      <td>2.25</td>\n",
              "      <td>9.00</td>\n",
              "      <td>127000</td>\n",
              "      <td>1.0</td>\n",
              "      <td>10</td>\n",
              "      <td>1</td>\n",
              "      <td>0</td>\n",
              "      <td>1</td>\n",
              "      <td>1</td>\n",
              "    </tr>\n",
              "    <tr>\n",
              "      <th>4</th>\n",
              "      <td>1.30</td>\n",
              "      <td>8.41</td>\n",
              "      <td>120000</td>\n",
              "      <td>1.0</td>\n",
              "      <td>13</td>\n",
              "      <td>0</td>\n",
              "      <td>1</td>\n",
              "      <td>1</td>\n",
              "      <td>1</td>\n",
              "    </tr>\n",
              "  </tbody>\n",
              "</table>\n",
              "</div>"
            ],
            "text/plain": [
              "   selling_price  present_price  ...  seller_type_Individual  transmission_Manual\n",
              "0           4.50           8.41  ...                       1                    1\n",
              "1           3.70          13.29  ...                       1                    1\n",
              "2           1.58          14.95  ...                       1                    1\n",
              "3           2.25           9.00  ...                       1                    1\n",
              "4           1.30           8.41  ...                       1                    1\n",
              "\n",
              "[5 rows x 9 columns]"
            ]
          },
          "metadata": {
            "tags": []
          },
          "execution_count": 99
        }
      ]
    },
    {
      "cell_type": "code",
      "metadata": {
        "colab": {
          "base_uri": "https://localhost:8080/"
        },
        "id": "WZosFC2h85fS",
        "outputId": "54b1ce0c-9656-44cd-d57f-33530aa4ec2a"
      },
      "source": [
        "print(final_df.shape)\n",
        "print(final_df.dtypes)"
      ],
      "execution_count": null,
      "outputs": [
        {
          "output_type": "stream",
          "text": [
            "(6047, 9)\n",
            "selling_price             float64\n",
            "present_price             float64\n",
            "km_driven                   int64\n",
            "No_of_previous_owner      float64\n",
            "age                         int64\n",
            "fuel_Diesel                 uint8\n",
            "fuel_Petrol                 uint8\n",
            "seller_type_Individual      uint8\n",
            "transmission_Manual         uint8\n",
            "dtype: object\n"
          ],
          "name": "stdout"
        }
      ]
    },
    {
      "cell_type": "markdown",
      "metadata": {
        "id": "53VUEdOFNIfU"
      },
      "source": [
        "## Create a Model"
      ]
    },
    {
      "cell_type": "code",
      "metadata": {
        "id": "Nktlss_qNRBW"
      },
      "source": [
        "Y = final_df['selling_price']\n",
        "X = final_df.drop('selling_price',axis=1)\n",
        "X_train,X_test,y_train,y_test = train_test_split(X,Y,test_size=0.33,random_state=5)"
      ],
      "execution_count": null,
      "outputs": []
    },
    {
      "cell_type": "code",
      "metadata": {
        "colab": {
          "base_uri": "https://localhost:8080/"
        },
        "id": "Tsz0z7kOxjAb",
        "outputId": "05837af6-b088-47e5-85bc-d7120adedcce"
      },
      "source": [
        "print(\"x train: \",X_train.shape)\n",
        "print(\"x test: \",X_test.shape)\n",
        "print(\"y train: \",y_train.shape)\n",
        "print(\"y test: \",y_test.shape)"
      ],
      "execution_count": null,
      "outputs": [
        {
          "output_type": "stream",
          "text": [
            "x train:  (4051, 8)\n",
            "x test:  (1996, 8)\n",
            "y train:  (4051,)\n",
            "y test:  (1996,)\n"
          ],
          "name": "stdout"
        }
      ]
    },
    {
      "cell_type": "code",
      "metadata": {
        "id": "-WlUZ97M2gft"
      },
      "source": [
        "from sklearn.metrics import r2_score\n",
        "from sklearn.model_selection import cross_val_score"
      ],
      "execution_count": null,
      "outputs": []
    },
    {
      "cell_type": "code",
      "metadata": {
        "id": "fADrE5CN2emY"
      },
      "source": [
        "CV = []\n",
        "R2_train = []\n",
        "R2_test = []\n",
        "\n",
        "def car_pred_model(model,model_name):\n",
        "    # Training model\n",
        "    model.fit(X_train,y_train)\n",
        "            \n",
        "    # R2 score of train set\n",
        "    y_pred_train = model.predict(X_train)\n",
        "    R2_train_model = r2_score(y_train,y_pred_train)\n",
        "    R2_train.append(round(R2_train_model,2))\n",
        "    \n",
        "    # R2 score of test set\n",
        "    y_pred_test = model.predict(X_test)\n",
        "    R2_test_model = r2_score(y_test,y_pred_test)\n",
        "    R2_test.append(round(R2_test_model,2))\n",
        "    \n",
        "    # R2 mean of train set using Cross validation\n",
        "    cross_val = cross_val_score(model ,X_train ,y_train ,cv=5)\n",
        "    cv_mean = cross_val.mean()\n",
        "    CV.append(round(cv_mean,2))\n",
        "    \n",
        "    # Printing results\n",
        "    print(\"Train R2-score :\",round(R2_train_model,2))\n",
        "    print(\"Test R2-score :\",round(R2_test_model,2))\n",
        "    print(\"Train CV scores :\",cross_val)\n",
        "    print(\"Train CV mean :\",round(cv_mean,2))\n",
        "    \n",
        "    # Plotting Graphs \n",
        "    # Residual Plot of train data\n",
        "    fig, ax = plt.subplots(1,2,figsize = (10,4))\n",
        "    ax[0].set_title('Residual Plot of Train samples')\n",
        "    sns.distplot((y_train-y_pred_train),hist = False,ax = ax[0])\n",
        "    ax[0].set_xlabel('y_train - y_pred_train')\n",
        "    \n",
        "    # Y_test vs Y_train scatter plot\n",
        "    ax[1].set_title('y_test vs y_pred_test')\n",
        "    ax[1].scatter(x = y_test, y = y_pred_test)\n",
        "    ax[1].set_xlabel('y_test')\n",
        "    ax[1].set_ylabel('y_pred_test')\n",
        "    \n",
        "    plt.show()"
      ],
      "execution_count": null,
      "outputs": []
    },
    {
      "cell_type": "markdown",
      "metadata": {
        "id": "XA9G4-Lu4GvW"
      },
      "source": [
        "Linear Regression"
      ]
    },
    {
      "cell_type": "code",
      "metadata": {
        "colab": {
          "base_uri": "https://localhost:8080/",
          "height": 363
        },
        "id": "9x0dteHGlRIA",
        "outputId": "c47044d7-fb2a-4628-9091-de044629073a"
      },
      "source": [
        "from sklearn.linear_model import LinearRegression\n",
        "\n",
        "lr = LinearRegression()\n",
        "car_pred_model(lr,\"Linear_regressor.pkl\")"
      ],
      "execution_count": null,
      "outputs": [
        {
          "output_type": "stream",
          "text": [
            "Train R2-score : 0.75\n",
            "Test R2-score : 0.77\n",
            "Train CV scores : [0.75383199 0.74924523 0.74238688 0.76410457 0.75409361]\n",
            "Train CV mean : 0.75\n"
          ],
          "name": "stdout"
        },
        {
          "output_type": "display_data",
          "data": {
            "image/png": "[encoded data removed]",
            "text/plain": [
              "<Figure size 720x288 with 2 Axes>"
            ]
          },
          "metadata": {
            "tags": [],
            "needs_background": "light"
          }
        }
      ]
    },
    {
      "cell_type": "markdown",
      "metadata": {
        "id": "y2NmyaKG4Ihd"
      },
      "source": [
        "Ridge Regression"
      ]
    },
    {
      "cell_type": "code",
      "metadata": {
        "colab": {
          "base_uri": "https://localhost:8080/",
          "height": 363
        },
        "id": "NJD4-Xvt4KIo",
        "outputId": "3c7ac493-28f0-4c92-8f8b-6526196947d9"
      },
      "source": [
        "from sklearn.linear_model import Ridge\n",
        "from sklearn.model_selection import RandomizedSearchCV\n",
        "\n",
        "# Creating Ridge model object\n",
        "rg = Ridge()\n",
        "# range of alpha \n",
        "alpha = np.logspace(-3,3,num=14)\n",
        "\n",
        "# Creating RandomizedSearchCV to find the best estimator of hyperparameter\n",
        "rg_rs = RandomizedSearchCV(estimator = rg, param_distributions = dict(alpha=alpha))\n",
        "\n",
        "car_pred_model(rg_rs,\"ridge.pkl\")"
      ],
      "execution_count": null,
      "outputs": [
        {
          "output_type": "stream",
          "text": [
            "Train R2-score : 0.75\n",
            "Test R2-score : 0.77\n",
            "Train CV scores : [0.75383401 0.74924034 0.74243585 0.76415122 0.75396556]\n",
            "Train CV mean : 0.75\n"
          ],
          "name": "stdout"
        },
        {
          "output_type": "display_data",
          "data": {
            "image/png": "[encoded data removed]",
            "text/plain": [
              "<Figure size 720x288 with 2 Axes>"
            ]
          },
          "metadata": {
            "tags": [],
            "needs_background": "light"
          }
        }
      ]
    },
    {
      "cell_type": "markdown",
      "metadata": {
        "id": "lt-vbF7M4YEi"
      },
      "source": [
        "Lasso Regression"
      ]
    },
    {
      "cell_type": "code",
      "metadata": {
        "colab": {
          "base_uri": "https://localhost:8080/",
          "height": 363
        },
        "id": "ylM39arb4MiC",
        "outputId": "f303ef05-1be2-47ea-afcd-10776c208984"
      },
      "source": [
        "from sklearn.linear_model import Lasso\n",
        "from sklearn.model_selection import RandomizedSearchCV\n",
        "\n",
        "ls = Lasso()\n",
        "alpha = np.logspace(-3,3,num=14) # range for alpha\n",
        "\n",
        "ls_rs = RandomizedSearchCV(estimator = ls, param_distributions = dict(alpha=alpha))\n",
        "\n",
        "car_pred_model(ls_rs,\"lasso.pkl\")"
      ],
      "execution_count": null,
      "outputs": [
        {
          "output_type": "stream",
          "text": [
            "Train R2-score : 0.75\n",
            "Test R2-score : 0.77\n",
            "Train CV scores : [0.75372415 0.74917782 0.74250174 0.7643411  0.75364361]\n",
            "Train CV mean : 0.75\n"
          ],
          "name": "stdout"
        },
        {
          "output_type": "display_data",
          "data": {
            "image/png": "[encoded data removed]",
            "text/plain": [
              "<Figure size 720x288 with 2 Axes>"
            ]
          },
          "metadata": {
            "tags": [],
            "needs_background": "light"
          }
        }
      ]
    },
    {
      "cell_type": "markdown",
      "metadata": {
        "id": "9kiCrCh44abs"
      },
      "source": [
        "Random Forest"
      ]
    },
    {
      "cell_type": "code",
      "metadata": {
        "id": "85iolDOm4d-A"
      },
      "source": [
        "from sklearn.ensemble import RandomForestRegressor\n",
        "from sklearn.model_selection import RandomizedSearchCV\n",
        "\n",
        "rf = RandomForestRegressor()\n",
        "\n",
        "# Number of trees in Random forest\n",
        "n_estimators=list(range(500,1000,100))\n",
        "# Maximum number of levels in a tree\n",
        "max_depth=list(range(4,9,4))\n",
        "# Minimum number of samples required to split an internal node\n",
        "min_samples_split=list(range(4,9,2))\n",
        "# Minimum number of samples required to be at a leaf node.\n",
        "min_samples_leaf=[1,2,5,7]\n",
        "# Number of fearures to be considered at each split\n",
        "max_features=['auto','sqrt']\n",
        "\n",
        "# Hyperparameters dict\n",
        "param_grid = {\"n_estimators\":n_estimators,\n",
        "              \"max_depth\":max_depth,\n",
        "              \"min_samples_split\":min_samples_split,\n",
        "              \"min_samples_leaf\":min_samples_leaf,\n",
        "              \"max_features\":max_features}\n",
        "\n",
        "rf_rs = RandomizedSearchCV(estimator = rf, param_distributions = param_grid)"
      ],
      "execution_count": null,
      "outputs": []
    },
    {
      "cell_type": "code",
      "metadata": {
        "colab": {
          "base_uri": "https://localhost:8080/",
          "height": 363
        },
        "id": "FCwtioer4eoM",
        "outputId": "0440c395-50da-454a-9ec4-53af47133a51"
      },
      "source": [
        "car_pred_model(rf_rs,'random_forest.pkl')"
      ],
      "execution_count": null,
      "outputs": [
        {
          "output_type": "stream",
          "text": [
            "Train R2-score : 0.91\n",
            "Test R2-score : 0.88\n",
            "Train CV scores : [0.88106776 0.87025344 0.87840815 0.87388317 0.85865205]\n",
            "Train CV mean : 0.87\n"
          ],
          "name": "stdout"
        },
        {
          "output_type": "display_data",
          "data": {
            "image/png": "[encoded data removed]",
            "text/plain": [
              "<Figure size 720x288 with 2 Axes>"
            ]
          },
          "metadata": {
            "tags": [],
            "needs_background": "light"
          }
        }
      ]
    },
    {
      "cell_type": "code",
      "metadata": {
        "id": "WmuxoWFa7FN9",
        "colab": {
          "base_uri": "https://localhost:8080/",
          "height": 195
        },
        "outputId": "46908179-6d93-492a-fee4-943c5331c6c9"
      },
      "source": [
        "final_df.head()"
      ],
      "execution_count": null,
      "outputs": [
        {
          "output_type": "execute_result",
          "data": {
            "text/html": [
              "<div>\n",
              "<style scoped>\n",
              "    .dataframe tbody tr th:only-of-type {\n",
              "        vertical-align: middle;\n",
              "    }\n",
              "\n",
              "    .dataframe tbody tr th {\n",
              "        vertical-align: top;\n",
              "    }\n",
              "\n",
              "    .dataframe thead th {\n",
              "        text-align: right;\n",
              "    }\n",
              "</style>\n",
              "<table border=\"1\" class=\"dataframe\">\n",
              "  <thead>\n",
              "    <tr style=\"text-align: right;\">\n",
              "      <th></th>\n",
              "      <th>selling_price</th>\n",
              "      <th>present_price</th>\n",
              "      <th>km_driven</th>\n",
              "      <th>No_of_previous_owner</th>\n",
              "      <th>age</th>\n",
              "      <th>fuel_Diesel</th>\n",
              "      <th>fuel_Petrol</th>\n",
              "      <th>seller_type_Individual</th>\n",
              "      <th>transmission_Manual</th>\n",
              "    </tr>\n",
              "  </thead>\n",
              "  <tbody>\n",
              "    <tr>\n",
              "      <th>0</th>\n",
              "      <td>4.50</td>\n",
              "      <td>8.41</td>\n",
              "      <td>145500</td>\n",
              "      <td>1.0</td>\n",
              "      <td>6</td>\n",
              "      <td>1</td>\n",
              "      <td>0</td>\n",
              "      <td>1</td>\n",
              "      <td>1</td>\n",
              "    </tr>\n",
              "    <tr>\n",
              "      <th>1</th>\n",
              "      <td>3.70</td>\n",
              "      <td>13.29</td>\n",
              "      <td>120000</td>\n",
              "      <td>2.0</td>\n",
              "      <td>6</td>\n",
              "      <td>1</td>\n",
              "      <td>0</td>\n",
              "      <td>1</td>\n",
              "      <td>1</td>\n",
              "    </tr>\n",
              "    <tr>\n",
              "      <th>2</th>\n",
              "      <td>1.58</td>\n",
              "      <td>14.95</td>\n",
              "      <td>140000</td>\n",
              "      <td>3.0</td>\n",
              "      <td>14</td>\n",
              "      <td>0</td>\n",
              "      <td>1</td>\n",
              "      <td>1</td>\n",
              "      <td>1</td>\n",
              "    </tr>\n",
              "    <tr>\n",
              "      <th>3</th>\n",
              "      <td>2.25</td>\n",
              "      <td>9.00</td>\n",
              "      <td>127000</td>\n",
              "      <td>1.0</td>\n",
              "      <td>10</td>\n",
              "      <td>1</td>\n",
              "      <td>0</td>\n",
              "      <td>1</td>\n",
              "      <td>1</td>\n",
              "    </tr>\n",
              "    <tr>\n",
              "      <th>4</th>\n",
              "      <td>1.30</td>\n",
              "      <td>8.41</td>\n",
              "      <td>120000</td>\n",
              "      <td>1.0</td>\n",
              "      <td>13</td>\n",
              "      <td>0</td>\n",
              "      <td>1</td>\n",
              "      <td>1</td>\n",
              "      <td>1</td>\n",
              "    </tr>\n",
              "  </tbody>\n",
              "</table>\n",
              "</div>"
            ],
            "text/plain": [
              "   selling_price  present_price  ...  seller_type_Individual  transmission_Manual\n",
              "0           4.50           8.41  ...                       1                    1\n",
              "1           3.70          13.29  ...                       1                    1\n",
              "2           1.58          14.95  ...                       1                    1\n",
              "3           2.25           9.00  ...                       1                    1\n",
              "4           1.30           8.41  ...                       1                    1\n",
              "\n",
              "[5 rows x 9 columns]"
            ]
          },
          "metadata": {
            "tags": []
          },
          "execution_count": 33
        }
      ]
    },
    {
      "cell_type": "code",
      "metadata": {
        "id": "EAr08q9X57LB"
      },
      "source": [
        "from sklearn.ensemble import GradientBoostingRegressor\n",
        "from sklearn.model_selection import RandomizedSearchCV\n",
        "\n",
        "gb = GradientBoostingRegressor()\n",
        "\n",
        "# Rate at which correcting is being made\n",
        "learning_rate = [0.001, 0.01, 0.1, 0.2]\n",
        "# Number of trees in Gradient boosting\n",
        "n_estimators=list(range(500,1000,100))\n",
        "# Maximum number of levels in a tree\n",
        "max_depth=list(range(4,9,4))\n",
        "# Minimum number of samples required to split an internal node\n",
        "min_samples_split=list(range(4,9,2))\n",
        "# Minimum number of samples required to be at a leaf node.\n",
        "min_samples_leaf=[1,2,5,7]\n",
        "# Number of fearures to be considered at each split\n",
        "max_features=['auto','sqrt']\n",
        "\n",
        "# Hyperparameters dict\n",
        "param_grid = {\"learning_rate\":learning_rate,\n",
        "              \"n_estimators\":n_estimators,\n",
        "              \"max_depth\":max_depth,\n",
        "              \"min_samples_split\":min_samples_split,\n",
        "              \"min_samples_leaf\":min_samples_leaf,\n",
        "              \"max_features\":max_features}\n",
        "\n",
        "gb_rs = RandomizedSearchCV(estimator = gb, param_distributions = param_grid)"
      ],
      "execution_count": null,
      "outputs": []
    },
    {
      "cell_type": "code",
      "metadata": {
        "colab": {
          "base_uri": "https://localhost:8080/",
          "height": 363
        },
        "id": "4ScmsHqn5zAO",
        "outputId": "d5707835-4780-467b-e58a-9d96526818a6"
      },
      "source": [
        "car_pred_model(gb_rs,\"gradient_boosting.pkl\")"
      ],
      "execution_count": null,
      "outputs": [
        {
          "output_type": "stream",
          "text": [
            "Train R2-score : 0.94\n",
            "Test R2-score : 0.9\n",
            "Train CV scores : [0.89104481 0.89075512 0.88680439 0.89023684 0.87166735]\n",
            "Train CV mean : 0.89\n"
          ],
          "name": "stdout"
        },
        {
          "output_type": "display_data",
          "data": {
            "image/png": "[encoded data removed]",
            "text/plain": [
              "<Figure size 720x288 with 2 Axes>"
            ]
          },
          "metadata": {
            "tags": [],
            "needs_background": "light"
          }
        }
      ]
    },
    {
      "cell_type": "code",
      "metadata": {
        "colab": {
          "base_uri": "https://localhost:8080/",
          "height": 195
        },
        "id": "J9kKTDOPuW6F",
        "outputId": "05c68659-d2ad-4ecd-a70d-4542f289d9eb"
      },
      "source": [
        "Technique = [\"LinearRegression\",\"Ridge\",\"Lasso\",\"RandomForestRegressor\",\"Gradient Boosting\"]\n",
        "results=pd.DataFrame({'Model': Technique,'R Squared(Train)': R2_train,'R Squared(Test)': R2_test,'CV score mean(Train)': CV})\n",
        "display(results)"
      ],
      "execution_count": null,
      "outputs": [
        {
          "output_type": "display_data",
          "data": {
            "text/html": [
              "<div>\n",
              "<style scoped>\n",
              "    .dataframe tbody tr th:only-of-type {\n",
              "        vertical-align: middle;\n",
              "    }\n",
              "\n",
              "    .dataframe tbody tr th {\n",
              "        vertical-align: top;\n",
              "    }\n",
              "\n",
              "    .dataframe thead th {\n",
              "        text-align: right;\n",
              "    }\n",
              "</style>\n",
              "<table border=\"1\" class=\"dataframe\">\n",
              "  <thead>\n",
              "    <tr style=\"text-align: right;\">\n",
              "      <th></th>\n",
              "      <th>Model</th>\n",
              "      <th>R Squared(Train)</th>\n",
              "      <th>R Squared(Test)</th>\n",
              "      <th>CV score mean(Train)</th>\n",
              "    </tr>\n",
              "  </thead>\n",
              "  <tbody>\n",
              "    <tr>\n",
              "      <th>0</th>\n",
              "      <td>LinearRegression</td>\n",
              "      <td>0.78</td>\n",
              "      <td>0.77</td>\n",
              "      <td>0.77</td>\n",
              "    </tr>\n",
              "    <tr>\n",
              "      <th>1</th>\n",
              "      <td>Ridge</td>\n",
              "      <td>0.78</td>\n",
              "      <td>0.77</td>\n",
              "      <td>0.77</td>\n",
              "    </tr>\n",
              "    <tr>\n",
              "      <th>2</th>\n",
              "      <td>Lasso</td>\n",
              "      <td>0.77</td>\n",
              "      <td>0.77</td>\n",
              "      <td>0.77</td>\n",
              "    </tr>\n",
              "    <tr>\n",
              "      <th>3</th>\n",
              "      <td>RandomForestRegressor</td>\n",
              "      <td>0.91</td>\n",
              "      <td>0.88</td>\n",
              "      <td>0.87</td>\n",
              "    </tr>\n",
              "    <tr>\n",
              "      <th>4</th>\n",
              "      <td>Gradient Boosting</td>\n",
              "      <td>0.94</td>\n",
              "      <td>0.90</td>\n",
              "      <td>0.89</td>\n",
              "    </tr>\n",
              "  </tbody>\n",
              "</table>\n",
              "</div>"
            ],
            "text/plain": [
              "                   Model  ...  CV score mean(Train)\n",
              "0       LinearRegression  ...                  0.77\n",
              "1                  Ridge  ...                  0.77\n",
              "2                  Lasso  ...                  0.77\n",
              "3  RandomForestRegressor  ...                  0.87\n",
              "4      Gradient Boosting  ...                  0.89\n",
              "\n",
              "[5 rows x 4 columns]"
            ]
          },
          "metadata": {
            "tags": []
          }
        }
      ]
    }
  ]
}